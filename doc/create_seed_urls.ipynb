{
 "cells": [
  {
   "cell_type": "markdown",
   "id": "0d633788",
   "metadata": {},
   "source": [
    "# How to generate Seed URLs from CommonCrawl\n",
    "\n",
    "This notebook explains how to generate seed URLs from Commoncrawl.\n",
    "\n",
    "First of all, you need to decide which languages you want to generate. Commoncrawl identifies languages with ISO-639-3 codes. You can find the list of codes in the [ISO 639 Code Tables](https://iso639-3.sil.org/code_tables/639/data).\n",
    "\n",
    "In this example, we want to generate seedurls for these languages\n",
    "\n",
    "| Language    | ISO-639-3 Code |\n",
    "|-------------|----------------|\n",
    "| Swahili     | swa            |\n",
    "| Hausa       | hau            |\n",
    "| Amharic     | amh            |\n",
    "| Yoruba      | yor            |\n",
    "| Oromo       | orm            |\n",
    "| Kinyarwanda | kin            |\n",
    "| Kirundi     | rin            |\n",
    "\n",
    "\n",
    "## Step 1: Download URLs from Commoncrawl\n",
    "\n",
    "Next, please setup the Amazon Athena Database of CommonCrawl following the article [How to query Common Crawl data using Amazon Athena\n",
    "](https://medium.com/@vtbs55596/how-to-query-common-crawl-data-using-amazon-athena-416ad13e54f8). You need a credit card for this, but the query is not very expensive (less than 1 USD).\n",
    "\n",
    "After the setup, please execute this query. We put the list of languages in the query.\n",
    "\n",
    "```\n",
    "SELECT url, url_host_registered_domain, content_languages\n",
    "FROM \"ccindex\".\"ccindex\"\n",
    "WHERE subset = 'warc' AND content_languages IN ('swa', 'hau', 'amh', 'yor', 'orm', 'kin', 'rin');\n",
    "```\n",
    "\n",
    "You can download the results as CSV. The result files have cryptic names, in our case, it is `d07aed5d-212e-4741-8b48-e854939c20ff.csv`. Lets assume you downloaded the file in `~/Downloads/d07aed5d-212e-4741-8b48-e854939c20ff.csv`. The file is large, in our case ~700MB.\n",
    "\n",
    "## Step 2: Convert URLs into the proper format\n",
    "\n",
    "You need to have the pandas library installed to execute the code."
   ]
  },
  {
   "cell_type": "code",
   "execution_count": 2,
   "id": "be97e74e",
   "metadata": {},
   "outputs": [
    {
     "name": "stdout",
     "output_type": "stream",
     "text": [
      "Requirement already satisfied: pandas in /Users/macbookair/workspaces/giz/2025/crawler/.venv/lib/python3.13/site-packages (2.3.2)\n",
      "Requirement already satisfied: numpy>=1.26.0 in /Users/macbookair/workspaces/giz/2025/crawler/.venv/lib/python3.13/site-packages (from pandas) (1.26.4)\n",
      "Requirement already satisfied: python-dateutil>=2.8.2 in /Users/macbookair/workspaces/giz/2025/crawler/.venv/lib/python3.13/site-packages (from pandas) (2.9.0.post0)\n",
      "Requirement already satisfied: pytz>=2020.1 in /Users/macbookair/workspaces/giz/2025/crawler/.venv/lib/python3.13/site-packages (from pandas) (2025.2)\n",
      "Requirement already satisfied: tzdata>=2022.7 in /Users/macbookair/workspaces/giz/2025/crawler/.venv/lib/python3.13/site-packages (from pandas) (2025.2)\n",
      "Requirement already satisfied: six>=1.5 in /Users/macbookair/workspaces/giz/2025/crawler/.venv/lib/python3.13/site-packages (from python-dateutil>=2.8.2->pandas) (1.17.0)\n"
     ]
    }
   ],
   "source": [
    "!pip install pandas"
   ]
  },
  {
   "cell_type": "code",
   "execution_count": 16,
   "id": "df5afcbe",
   "metadata": {},
   "outputs": [
    {
     "data": {
      "text/html": [
       "<div>\n",
       "<style scoped>\n",
       "    .dataframe tbody tr th:only-of-type {\n",
       "        vertical-align: middle;\n",
       "    }\n",
       "\n",
       "    .dataframe tbody tr th {\n",
       "        vertical-align: top;\n",
       "    }\n",
       "\n",
       "    .dataframe thead th {\n",
       "        text-align: right;\n",
       "    }\n",
       "</style>\n",
       "<table border=\"1\" class=\"dataframe\">\n",
       "  <thead>\n",
       "    <tr style=\"text-align: right;\">\n",
       "      <th></th>\n",
       "      <th>url</th>\n",
       "      <th>url_host_registered_domain</th>\n",
       "      <th>content_languages</th>\n",
       "    </tr>\n",
       "  </thead>\n",
       "  <tbody>\n",
       "    <tr>\n",
       "      <th>0</th>\n",
       "      <td>http://ambachhof.at/</td>\n",
       "      <td>ambachhof.at</td>\n",
       "      <td>swa</td>\n",
       "    </tr>\n",
       "    <tr>\n",
       "      <th>1</th>\n",
       "      <td>http://members.aon.at/lemu/Homepage/Index.htm</td>\n",
       "      <td>aon.at</td>\n",
       "      <td>orm</td>\n",
       "    </tr>\n",
       "    <tr>\n",
       "      <th>3</th>\n",
       "      <td>http://154.118.228.138:8080/mis/</td>\n",
       "      <td>NaN</td>\n",
       "      <td>swa</td>\n",
       "    </tr>\n",
       "    <tr>\n",
       "      <th>4</th>\n",
       "      <td>http://serma.al/index.php/en/products/producer...</td>\n",
       "      <td>serma.al</td>\n",
       "      <td>orm</td>\n",
       "    </tr>\n",
       "    <tr>\n",
       "      <th>5</th>\n",
       "      <td>http://41.41.114.242/EyeCare/public/index.php/...</td>\n",
       "      <td>NaN</td>\n",
       "      <td>orm</td>\n",
       "    </tr>\n",
       "    <tr>\n",
       "      <th>...</th>\n",
       "      <td>...</td>\n",
       "      <td>...</td>\n",
       "      <td>...</td>\n",
       "    </tr>\n",
       "    <tr>\n",
       "      <th>7406702</th>\n",
       "      <td>https://aguiarbuenosaires.com/category/tango-m...</td>\n",
       "      <td>aguiarbuenosaires.com</td>\n",
       "      <td>kin</td>\n",
       "    </tr>\n",
       "    <tr>\n",
       "      <th>7406703</th>\n",
       "      <td>https://aguiarbuenosaires.com/tag/buenos-aires...</td>\n",
       "      <td>aguiarbuenosaires.com</td>\n",
       "      <td>kin</td>\n",
       "    </tr>\n",
       "    <tr>\n",
       "      <th>7406704</th>\n",
       "      <td>https://aguiarbuenosaires.com/tag/documentos/</td>\n",
       "      <td>aguiarbuenosaires.com</td>\n",
       "      <td>kin</td>\n",
       "    </tr>\n",
       "    <tr>\n",
       "      <th>7406705</th>\n",
       "      <td>https://aguiarbuenosaires.com/tag/vegetarianos/</td>\n",
       "      <td>aguiarbuenosaires.com</td>\n",
       "      <td>kin</td>\n",
       "    </tr>\n",
       "    <tr>\n",
       "      <th>7406710</th>\n",
       "      <td>https://kiranshaw.blog/ipages/flipbook/the-maz...</td>\n",
       "      <td>kiranshaw.blog</td>\n",
       "      <td>hau</td>\n",
       "    </tr>\n",
       "  </tbody>\n",
       "</table>\n",
       "<p>3943864 rows × 3 columns</p>\n",
       "</div>"
      ],
      "text/plain": [
       "                                                       url  \\\n",
       "0                                     http://ambachhof.at/   \n",
       "1            http://members.aon.at/lemu/Homepage/Index.htm   \n",
       "3                         http://154.118.228.138:8080/mis/   \n",
       "4        http://serma.al/index.php/en/products/producer...   \n",
       "5        http://41.41.114.242/EyeCare/public/index.php/...   \n",
       "...                                                    ...   \n",
       "7406702  https://aguiarbuenosaires.com/category/tango-m...   \n",
       "7406703  https://aguiarbuenosaires.com/tag/buenos-aires...   \n",
       "7406704      https://aguiarbuenosaires.com/tag/documentos/   \n",
       "7406705    https://aguiarbuenosaires.com/tag/vegetarianos/   \n",
       "7406710  https://kiranshaw.blog/ipages/flipbook/the-maz...   \n",
       "\n",
       "        url_host_registered_domain content_languages  \n",
       "0                     ambachhof.at               swa  \n",
       "1                           aon.at               orm  \n",
       "3                              NaN               swa  \n",
       "4                         serma.al               orm  \n",
       "5                              NaN               orm  \n",
       "...                            ...               ...  \n",
       "7406702      aguiarbuenosaires.com               kin  \n",
       "7406703      aguiarbuenosaires.com               kin  \n",
       "7406704      aguiarbuenosaires.com               kin  \n",
       "7406705      aguiarbuenosaires.com               kin  \n",
       "7406710             kiranshaw.blog               hau  \n",
       "\n",
       "[3943864 rows x 3 columns]"
      ]
     },
     "execution_count": 16,
     "metadata": {},
     "output_type": "execute_result"
    }
   ],
   "source": [
    "import pandas as pd\n",
    "\n",
    "infile = '~/Downloads/d07aed5d-212e-4741-8b48-e854939c20ff.csv'\n",
    "df = pd.read_csv(infile)\n",
    "# drop duplicate urls\n",
    "df = df.drop_duplicates('url').copy()\n",
    "df"
   ]
  },
  {
   "cell_type": "markdown",
   "id": "c17ded5d",
   "metadata": {},
   "source": [
    "First, lets compute some statistics on the data"
   ]
  },
  {
   "cell_type": "code",
   "execution_count": 17,
   "id": "10d9161e",
   "metadata": {},
   "outputs": [
    {
     "data": {
      "text/plain": [
       "content_languages\n",
       "swa    1863433\n",
       "kin     619991\n",
       "hau     571159\n",
       "amh     500201\n",
       "yor     308485\n",
       "orm      80595\n",
       "Name: count, dtype: int64"
      ]
     },
     "execution_count": 17,
     "metadata": {},
     "output_type": "execute_result"
    }
   ],
   "source": [
    "# how many urls per language?\n",
    "df.content_languages.value_counts()"
   ]
  },
  {
   "cell_type": "code",
   "execution_count": 18,
   "id": "e08415c4",
   "metadata": {},
   "outputs": [
    {
     "data": {
      "text/plain": [
       "content_languages\n",
       "swa    19568\n",
       "kin    16091\n",
       "hau    10834\n",
       "amh     7799\n",
       "yor     5104\n",
       "orm     4620\n",
       "Name: count, dtype: int64"
      ]
     },
     "execution_count": 18,
     "metadata": {},
     "output_type": "execute_result"
    }
   ],
   "source": [
    "# how many domains per language?\n",
    "df.drop_duplicates('url_host_registered_domain').content_languages.value_counts()"
   ]
  },
  {
   "cell_type": "markdown",
   "id": "8427d240",
   "metadata": {},
   "source": [
    "Next, lets define the scripts. Scripts are encoded in ISO 15924. Here is the [ISO 15924 Code List](https://unicode.org/iso15924/iso15924-codes.html). We define that we use the Latin script for all languages except for Amharic, for which we use the Ge'ez script."
   ]
  },
  {
   "cell_type": "code",
   "execution_count": 21,
   "id": "ad09dcfe",
   "metadata": {},
   "outputs": [],
   "source": [
    "languages2scripts = {'swa': 'Latn',\n",
    " 'orm': 'Latn',\n",
    " 'kin': 'Latn',\n",
    " 'amh': 'Ethi',\n",
    " 'hau': 'Latn',\n",
    " 'yor': 'Latn'}"
   ]
  },
  {
   "cell_type": "markdown",
   "id": "4b1dfae2",
   "metadata": {},
   "source": [
    "next, lets create the output data"
   ]
  },
  {
   "cell_type": "code",
   "execution_count": null,
   "id": "3ab9aec4",
   "metadata": {},
   "outputs": [],
   "source": [
    "import os\n",
    "import shutil\n",
    "import gzip\n",
    "\n",
    "outfolder = '/tmp/crawlzilla-seeds'\n",
    "\n",
    "if os.path.exists(outfolder):\n",
    "    shutil.rmtree(outfolder)\n",
    "\n",
    "os.mkdir(outfolder)\n",
    "\n",
    "writers = {open(os.path.join(outfolder, language + \".txt.gz\") for language in languages2scripts.keys())}"
   ]
  }
 ],
 "metadata": {
  "kernelspec": {
   "display_name": ".venv",
   "language": "python",
   "name": "python3"
  },
  "language_info": {
   "codemirror_mode": {
    "name": "ipython",
    "version": 3
   },
   "file_extension": ".py",
   "mimetype": "text/x-python",
   "name": "python",
   "nbconvert_exporter": "python",
   "pygments_lexer": "ipython3",
   "version": "3.13.2"
  }
 },
 "nbformat": 4,
 "nbformat_minor": 5
}
