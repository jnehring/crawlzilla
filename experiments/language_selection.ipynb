{
 "cells": [
  {
   "cell_type": "code",
   "execution_count": 3,
   "metadata": {},
   "outputs": [],
   "source": [
    "languages = {\n",
    "    \"Swahili\": \"swa\",\n",
    "    \"Kinyarwanda\": \"kin\",\n",
    "    \"Yoruba\": \"yor\",\n",
    "    \"Kirundi\": \"run\",\n",
    "    \"Hausa\": \"hau\",\n",
    "    \"Amharic\": \"amh\", \n",
    "    \"Oromo\": \"orm\",\n",
    "    \"Lingala\": \"lin\"\n",
    "}"
   ]
  },
  {
   "cell_type": "code",
   "execution_count": 4,
   "metadata": {},
   "outputs": [
    {
     "data": {
      "text/plain": [
       "['swa', 'kin', 'yor', 'run', 'hau', 'amh', 'orm', 'lin']"
      ]
     },
     "execution_count": 4,
     "metadata": {},
     "output_type": "execute_result"
    }
   ],
   "source": [
    "list(languages.values())"
   ]
  },
  {
   "cell_type": "code",
   "execution_count": 5,
   "metadata": {},
   "outputs": [
    {
     "data": {
      "text/html": [
       "<div>\n",
       "<style scoped>\n",
       "    .dataframe tbody tr th:only-of-type {\n",
       "        vertical-align: middle;\n",
       "    }\n",
       "\n",
       "    .dataframe tbody tr th {\n",
       "        vertical-align: top;\n",
       "    }\n",
       "\n",
       "    .dataframe thead th {\n",
       "        text-align: right;\n",
       "    }\n",
       "</style>\n",
       "<table border=\"1\" class=\"dataframe\">\n",
       "  <thead>\n",
       "    <tr style=\"text-align: right;\">\n",
       "      <th></th>\n",
       "      <th>url</th>\n",
       "      <th>url_host_registered_domain</th>\n",
       "      <th>content_languages</th>\n",
       "    </tr>\n",
       "  </thead>\n",
       "  <tbody>\n",
       "    <tr>\n",
       "      <th>0</th>\n",
       "      <td>http://brainlingo.com/html/top.htm</td>\n",
       "      <td>brainlingo.com</td>\n",
       "      <td>lin</td>\n",
       "    </tr>\n",
       "    <tr>\n",
       "      <th>1</th>\n",
       "      <td>https://www.everybarataa.com/</td>\n",
       "      <td>everybarataa.com</td>\n",
       "      <td>orm</td>\n",
       "    </tr>\n",
       "    <tr>\n",
       "      <th>2</th>\n",
       "      <td>https://www.everybarataa.com/a/prayers.html</td>\n",
       "      <td>everybarataa.com</td>\n",
       "      <td>orm</td>\n",
       "    </tr>\n",
       "    <tr>\n",
       "      <th>3</th>\n",
       "      <td>https://www.everybarataa.com/a/trinity1.html</td>\n",
       "      <td>everybarataa.com</td>\n",
       "      <td>orm</td>\n",
       "    </tr>\n",
       "    <tr>\n",
       "      <th>4</th>\n",
       "      <td>https://www.everybarataa.com/a/where.html</td>\n",
       "      <td>everybarataa.com</td>\n",
       "      <td>orm</td>\n",
       "    </tr>\n",
       "    <tr>\n",
       "      <th>...</th>\n",
       "      <td>...</td>\n",
       "      <td>...</td>\n",
       "      <td>...</td>\n",
       "    </tr>\n",
       "    <tr>\n",
       "      <th>127253</th>\n",
       "      <td>https://app.revoride.com/login</td>\n",
       "      <td>revoride.com</td>\n",
       "      <td>swa</td>\n",
       "    </tr>\n",
       "    <tr>\n",
       "      <th>127254</th>\n",
       "      <td>https://rexdlapk.com/ng/blog/disappearing-mess...</td>\n",
       "      <td>rexdlapk.com</td>\n",
       "      <td>hau</td>\n",
       "    </tr>\n",
       "    <tr>\n",
       "      <th>127255</th>\n",
       "      <td>https://rexdlapk.com/ng/blog/edit-sent-message...</td>\n",
       "      <td>rexdlapk.com</td>\n",
       "      <td>hau</td>\n",
       "    </tr>\n",
       "    <tr>\n",
       "      <th>127256</th>\n",
       "      <td>http://mrw.reycreo.com/gaming/contact-us</td>\n",
       "      <td>reycreo.com</td>\n",
       "      <td>kin</td>\n",
       "    </tr>\n",
       "    <tr>\n",
       "      <th>127257</th>\n",
       "      <td>http://mrw.reycreo.com/gaming/game/block-wood-...</td>\n",
       "      <td>reycreo.com</td>\n",
       "      <td>kin</td>\n",
       "    </tr>\n",
       "  </tbody>\n",
       "</table>\n",
       "<p>127258 rows × 3 columns</p>\n",
       "</div>"
      ],
      "text/plain": [
       "                                                      url  \\\n",
       "0                      http://brainlingo.com/html/top.htm   \n",
       "1                           https://www.everybarataa.com/   \n",
       "2             https://www.everybarataa.com/a/prayers.html   \n",
       "3            https://www.everybarataa.com/a/trinity1.html   \n",
       "4               https://www.everybarataa.com/a/where.html   \n",
       "...                                                   ...   \n",
       "127253                     https://app.revoride.com/login   \n",
       "127254  https://rexdlapk.com/ng/blog/disappearing-mess...   \n",
       "127255  https://rexdlapk.com/ng/blog/edit-sent-message...   \n",
       "127256           http://mrw.reycreo.com/gaming/contact-us   \n",
       "127257  http://mrw.reycreo.com/gaming/game/block-wood-...   \n",
       "\n",
       "       url_host_registered_domain content_languages  \n",
       "0                  brainlingo.com               lin  \n",
       "1                everybarataa.com               orm  \n",
       "2                everybarataa.com               orm  \n",
       "3                everybarataa.com               orm  \n",
       "4                everybarataa.com               orm  \n",
       "...                           ...               ...  \n",
       "127253               revoride.com               swa  \n",
       "127254               rexdlapk.com               hau  \n",
       "127255               rexdlapk.com               hau  \n",
       "127256                reycreo.com               kin  \n",
       "127257                reycreo.com               kin  \n",
       "\n",
       "[127258 rows x 3 columns]"
      ]
     },
     "execution_count": 5,
     "metadata": {},
     "output_type": "execute_result"
    }
   ],
   "source": [
    "import pandas as pd\n",
    "\n",
    "infile = \"../crawler/assets/source_websites.csv\"\n",
    "df = pd.read_csv(infile)\n",
    "df"
   ]
  },
  {
   "cell_type": "code",
   "execution_count": 6,
   "metadata": {},
   "outputs": [
    {
     "data": {
      "text/plain": [
       "content_languages\n",
       "swa    63787\n",
       "hau    17026\n",
       "kin    16124\n",
       "amh    15308\n",
       "yor     9971\n",
       "orm     2376\n",
       "lin     1767\n",
       "run      899\n",
       "Name: count, dtype: int64"
      ]
     },
     "execution_count": 6,
     "metadata": {},
     "output_type": "execute_result"
    }
   ],
   "source": [
    "df.content_languages.value_counts()"
   ]
  },
  {
   "cell_type": "code",
   "execution_count": null,
   "metadata": {},
   "outputs": [],
   "source": [
    "df.language.value_counts()"
   ]
  }
 ],
 "metadata": {
  "kernelspec": {
   "display_name": "kinybench",
   "language": "python",
   "name": "python3"
  },
  "language_info": {
   "codemirror_mode": {
    "name": "ipython",
    "version": 3
   },
   "file_extension": ".py",
   "mimetype": "text/x-python",
   "name": "python",
   "nbconvert_exporter": "python",
   "pygments_lexer": "ipython3",
   "version": "3.12.7"
  }
 },
 "nbformat": 4,
 "nbformat_minor": 2
}
