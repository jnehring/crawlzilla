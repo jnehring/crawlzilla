{
 "cells": [
  {
   "cell_type": "code",
   "execution_count": 1,
   "metadata": {},
   "outputs": [],
   "source": [
    "languages = {\n",
    "    \"Swahili\": \"swa\",\n",
    "    \"Kinyarwanda\": \"kin\",\n",
    "    \"Yoruba\": \"yor\",\n",
    "    \"Kirundi\": \"run\",\n",
    "    \"Hausa\": \"hau\",\n",
    "    \"Amharic\": \"amh\", \n",
    "    \"Oromo\": \"orm\",\n",
    "    \"Lingala\": \"lin\"\n",
    "}"
   ]
  },
  {
   "cell_type": "code",
   "execution_count": 2,
   "metadata": {},
   "outputs": [
    {
     "data": {
      "text/plain": [
       "['swa', 'kin', 'yor', 'run', 'hau', 'amh', 'orm', 'lin']"
      ]
     },
     "execution_count": 2,
     "metadata": {},
     "output_type": "execute_result"
    }
   ],
   "source": [
    "list(languages.values())"
   ]
  }
 ],
 "metadata": {
  "kernelspec": {
   "display_name": "agi",
   "language": "python",
   "name": "python3"
  },
  "language_info": {
   "codemirror_mode": {
    "name": "ipython",
    "version": 3
   },
   "file_extension": ".py",
   "mimetype": "text/x-python",
   "name": "python",
   "nbconvert_exporter": "python",
   "pygments_lexer": "ipython3",
   "version": "3.11.0"
  }
 },
 "nbformat": 4,
 "nbformat_minor": 2
}
