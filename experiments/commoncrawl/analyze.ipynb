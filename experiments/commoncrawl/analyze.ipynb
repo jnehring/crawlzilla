{
 "cells": [
  {
   "cell_type": "code",
   "execution_count": null,
   "metadata": {},
   "outputs": [],
   "source": [
    "import pandas as pd\n",
    "\n",
    "df = pd.read_csv(\"data/counts_google_commoncrawl.csv\")\n",
    "df = df[filter(lambda x:x[0:7] != \"Unnamed\", df.columns)].sort_values(by=\"language\")\n",
    "df"
   ]
  },
  {
   "cell_type": "code",
   "execution_count": null,
   "metadata": {},
   "outputs": [],
   "source": [
    "import seaborn as sns\n",
    "import matplotlib.pyplot as plt\n",
    "\n",
    "df2 = df[[\"domain\", \"language\"]].copy()\n",
    "df2[\"crawl\"] = \"Google\"\n",
    "df2[\"n\"] = df[\"count_google\"]\n",
    "\n",
    "df3 = df[[\"domain\", \"language\"]].copy()\n",
    "df3[\"crawl\"] = \"Commoncrawl\"\n",
    "df3[\"n\"] = df[\"count_commoncrawl\"]\n",
    "\n",
    "df4 = pd.concat((df2, df3))\n",
    "ax = sns.barplot(df4, x=\"language\", y=\"n\", hue=\"crawl\", errorbar=None)\n",
    "\n",
    "plt.title(\"Average number of pages per domain in Google and Common Crawl\")\n",
    "plt.xlabel(\"Number of urls per domain\")\n",
    "plt.legend(title=\"Index\")\n",
    "plt.ylabel(\"Language\")\n",
    "plt.yscale(\"log\")\n",
    "\n",
    "import numpy as np\n",
    "\n",
    "def format_val(val):\n",
    "    i=0\n",
    "    labels = [\"\", \"K\", \"M\"]\n",
    "    while val >= 1000:\n",
    "        val = val/1000\n",
    "        i+=1\n",
    "    return f\"{round(val)}{labels[i]}\"\n"
   ]
  },
  {
   "cell_type": "code",
   "execution_count": null,
   "metadata": {},
   "outputs": [],
   "source": [
    "counts = []\n",
    "for lang in df.language.unique():\n",
    "    mean_google = df.query(\"language==@lang\").count_google.mean()\n",
    "    mean_cc = df.query(\"language==@lang\").count_commoncrawl.mean()\n",
    "    counts.append([lang, mean_google, mean_cc])\n",
    "\n",
    "counts = pd.DataFrame(counts, columns=(\"language\", \"google\", \"cc\"))\n",
    "counts3 = counts.copy()\n",
    "counts[\"Difference\"] = 100*counts.google / counts.cc\n",
    "\n",
    "counts2 = []\n",
    "indexnames = {\n",
    "    \"cc\": \"Common Crawl\",\n",
    "    \"google\": \"Google\"\n",
    "}\n",
    "for c in ['google', 'cc']:\n",
    "    x = counts[[\"language\"]].copy()\n",
    "    x[\"Index\"] = indexnames[c]\n",
    "    x[\"Count\"] = counts[c]\n",
    "    counts2.append(x)\n",
    "\n",
    "counts2 = pd.concat(counts2)\n",
    "\n",
    "sns.barplot(counts2, x=\"language\", y=\"Count\", hue=\"Index\")\n",
    "plt.yscale(\"log\")\n",
    "plt.title(\"Average number of pages per domain in Google and Common Crawl\")\n",
    "plt.xlabel(\"Language\")\n",
    "plt.ylabel(\"Average number of pages\")"
   ]
  },
  {
   "cell_type": "code",
   "execution_count": null,
   "metadata": {},
   "outputs": [],
   "source": [
    "row = pd.DataFrame({\n",
    "    \"language\": [\"Average\"],\n",
    "    \"google\": [counts3.google.sum()],\n",
    "    \"cc\": [counts3.cc.sum()]\n",
    "})\n",
    "counts4 = pd.concat((counts3, row))\n",
    "counts4[\"Difference\"] = counts4.google / counts4.cc\n",
    "\n",
    "sns.barplot(counts4, x=\"language\", y=\"Difference\")\n",
    "plt.xlabel(\"Language\")\n",
    "plt.ylabel(\"Difference [x]\")\n",
    "plt.title(\"How much more data is in Google, compared to in Common Crawl?\")"
   ]
  },
  {
   "cell_type": "code",
   "execution_count": null,
   "metadata": {},
   "outputs": [],
   "source": [
    "counts4"
   ]
  },
  {
   "cell_type": "code",
   "execution_count": null,
   "metadata": {},
   "outputs": [],
   "source": [
    "counts"
   ]
  },
  {
   "cell_type": "code",
   "execution_count": null,
   "metadata": {},
   "outputs": [],
   "source": [
    "sns.barplot(counts, x=\"language\")"
   ]
  }
 ],
 "metadata": {
  "kernelspec": {
   "display_name": "crawler",
   "language": "python",
   "name": "python3"
  },
  "language_info": {
   "codemirror_mode": {
    "name": "ipython",
    "version": 3
   },
   "file_extension": ".py",
   "mimetype": "text/x-python",
   "name": "python",
   "nbconvert_exporter": "python",
   "pygments_lexer": "ipython3",
   "version": "3.12.1"
  }
 },
 "nbformat": 4,
 "nbformat_minor": 2
}
