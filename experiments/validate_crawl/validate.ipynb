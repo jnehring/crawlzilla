{
 "cells": [
  {
   "cell_type": "code",
   "execution_count": 114,
   "metadata": {},
   "outputs": [
    {
     "data": {
      "text/plain": [
       "['.DS_Store',\n",
       " 'domain_language_counter.json',\n",
       " 'downloaded_urls.txt',\n",
       " 'html',\n",
       " 'urls2download.txt',\n",
       " 'parsed']"
      ]
     },
     "execution_count": 114,
     "metadata": {},
     "output_type": "execute_result"
    }
   ],
   "source": [
    "import json\n",
    "import os\n",
    "import gzip\n",
    "import sys\n",
    "sys.path.append(\"../../crawler/\")\n",
    "from crawler import Parser, CrawlerConfig\n",
    "from bs4 import BeautifulSoup\n",
    "import bs4\n",
    "import re \n",
    "\n",
    "path = \"../../output_server/\"\n",
    "os.listdir(path)"
   ]
  },
  {
   "cell_type": "code",
   "execution_count": 6,
   "metadata": {},
   "outputs": [],
   "source": [
    "config = CrawlerConfig()\n",
    "parser = Parser(config)"
   ]
  },
  {
   "cell_type": "code",
   "execution_count": 2,
   "metadata": {},
   "outputs": [],
   "source": [
    "lines = []\n",
    "with gzip.open(os.path.join(path, \"html\", \"00001.json.gz\")) as reader:\n",
    "    for line in reader:\n",
    "        lines.append(json.loads(line))\n",
    "        if len(lines) > 5:\n",
    "            break"
   ]
  },
  {
   "cell_type": "code",
   "execution_count": null,
   "metadata": {},
   "outputs": [
    {
     "name": "stdout",
     "output_type": "stream",
     "text": [
      "https://sw.m.wikipedia.org/wiki/Lyambamgongo\n"
     ]
    }
   ],
   "source": []
  },
  {
   "cell_type": "code",
   "execution_count": 3,
   "metadata": {},
   "outputs": [
    {
     "name": "stdout",
     "output_type": "stream",
     "text": [
      "https://kiswahili.tuko.co.ke/burudani/546945-mitandao-yachemka-kufuatia-video-ya-maharusi-kuonekana-wakiwakanyaga-wageni-baada-ya-kufunga-ndoa/\n"
     ]
    },
    {
     "ename": "NameError",
     "evalue": "name 'parser' is not defined",
     "output_type": "error",
     "traceback": [
      "\u001b[0;31m---------------------------------------------------------------------------\u001b[0m",
      "\u001b[0;31mNameError\u001b[0m                                 Traceback (most recent call last)",
      "Cell \u001b[0;32mIn[3], line 5\u001b[0m\n\u001b[1;32m      2\u001b[0m \u001b[38;5;28mprint\u001b[39m(page[\u001b[38;5;124m\"\u001b[39m\u001b[38;5;124murl\u001b[39m\u001b[38;5;124m\"\u001b[39m])\n\u001b[1;32m      4\u001b[0m soup \u001b[38;5;241m=\u001b[39m BeautifulSoup(page[\u001b[38;5;124m\"\u001b[39m\u001b[38;5;124mhtml\u001b[39m\u001b[38;5;124m\"\u001b[39m], \u001b[38;5;124m\"\u001b[39m\u001b[38;5;124mhtml.parser\u001b[39m\u001b[38;5;124m\"\u001b[39m)\n\u001b[0;32m----> 5\u001b[0m \u001b[38;5;28;01mfor\u001b[39;00m p \u001b[38;5;129;01min\u001b[39;00m \u001b[43mparser\u001b[49m\u001b[38;5;241m.\u001b[39mextract_paragraphs_from_soup(soup):\n\u001b[1;32m      6\u001b[0m     \u001b[38;5;28mprint\u001b[39m(p)\n\u001b[1;32m      7\u001b[0m     \u001b[38;5;28mprint\u001b[39m()\n",
      "\u001b[0;31mNameError\u001b[0m: name 'parser' is not defined"
     ]
    }
   ],
   "source": [
    "page = lines[1]\n",
    "print(page[\"url\"])\n",
    "\n",
    "soup = BeautifulSoup(page[\"html\"], \"html.parser\")\n",
    "for p in parser.extract_paragraphs_from_soup(soup):\n",
    "    print(p)\n",
    "    print()"
   ]
  },
  {
   "cell_type": "code",
   "execution_count": null,
   "metadata": {},
   "outputs": [
    {
     "name": "stdout",
     "output_type": "stream",
     "text": [
      "Mitandao Yachemka Kufuatia Video ya Maharusi Kuonekana Wakiwakanyaga Wageni Baada ya Kufunga Ndoa - Tuko.co.ke\n",
      "Swahili Watu Kenya Siasa Burudani Michezo Biashara Mahusiano Elimu\n",
      "Swahili Watu Kenya Siasa Burudani Michezo Biashara Mahusiano Elimu\n",
      "Mitandao Yachemka Kufuatia Video ya Maharusi Kuonekana Wakiwakanyaga Wageni Baada ya Kufunga Ndoa\n",
      "Video moja ilipepea mitandaoni ikionesha maharusi wakitoka kanisani kwa mtindo usio wa kawaidaWanawake walilala chini sakafuni kwenye mlango, na wenzi hao walikanyaga migongo yao wakipitaKanda hiyo ilizua tafrani kwenye mitandao ya kijamii, huku watu wakitania kwamba hali hiyo itawapata wanandoa hao iwapo wataachanaMAKINIKA: Tusaidie kubadilisha maisha ya wengi, jiunge na programu ya Patreon kutoka TUKO.co.ke.Video ya wanandoa wapya wakikanyaga kundi la wanawake katika kanisa moja nchini Tanzania imeibua hisia kwenye mitandao ya kijamii. Bwana harusi na bibi harusi walikanyaga migongo ya wanawake wakati wakitoka kanisani. Picha: @4designsstudios.Chanzo: InstagramKatika video hiyo iliyosambazwa Instagram, waliooa hivi karibuni - Humphrey na Monica - walitembea juu ya migongo ya wanawake mara baada ya kula kiapo kanisani.Wanawake, ambao walikuwa angalau 10, walilala upande kifudifudi chini, kwenye mlango wa kanisa.Humphrey na Monica wakasaidiwa kusawazisha huku wakiwakanyaga migongo wale wanawake.MAKINIKA: Bofya “Ona Kwanza” chini ya “Fuatilia” ili kuona Habari za TUKO kwenye jukwaa lako la HabariWengine wanaweza kuonekana wakipepesuka kwa maumivu wanapokanyagwa. Pia somaWanawake Tanzania Wasema Hawajawahi Kuwaona Warembo Kenya: \"Sio Wazuri\"Ingawa haijulikani ikiwa wanawake waliolala chini walikuwa na uhusiano na Humphrey au Monica, desturi hiyo ni maarufu katika Visiwa vya Marquesas vya Polinesia ya Ufaransa.Ni sawa na mila ya kuruka ufagio kwenye harusi. Wakijibu kanda hiyo, watumiaji wa mitandao ya kijamii walisikitishwa na desturi hiyo, wakisema ni ya kudhalilisha licha ya ishara ya kitamaduni inayobeba waliooana hivi karibuni.Muli Nduva:\"Nikiona mtu yeyote akimkanyaga mamangu hivyo, harusi itaisha.\"Wacira:\"Kwa jinsi mgongo wangu umekuwa ukihisi hivi karibuni, nawezaje kujilaza ahivi nikanyagwe jamani?\"Herbert:\"Wakichana, wanakukanyaga kinyume chake.\"Azeh:\"Nilidhani nimeona tamaduni zote dunaini. Sasa najua ninaanza tu.\"Umuhuzakls:\"Wasidhubutu kupata talaka baada ya hayo yote.\"Sally:\"Nilidhani nimeona kila kitu.\"Tam:\"Mama zako hawakuteseka kwa muda wa miezi tisa kwa wewe kukanyagwa na watu wa ndoa. Tafadhali simama.\"Kwa nini bwana harusi alivaa chupi ya bibi arusi?Wiki moja iliyopita, kwenye harusi nyingine, watu waliduwaa baada ya mwanamume kuvaa nguo za ndani za mke wake kwenye sherehe.Pia somaMagazeti ya Kenya: Mjane Kirinyaga Afariki Baada ya Nyumba yake Kuangukiwa na Ghorofa ya JiraniIliyofichuliwa na mke kupitia video kwenye TikTok, mwanamume huyo alivalia chupi ya zambarau kwenye harusi na punde akajutia uamuzi huo.Katika video hiyo, mwanamume huyo aliyevalia mavazi meupe ya asili ya Nigeria anaonekana akitembea bila raha huku mkewe akimfuata kwa karibu akicheka bila kujizuia.Haijulikani kwa nini mwanamume huyo alichagua kuvaa nguo za ndani kwenye harusi.Read ENGLISH VERSION Je, unayo taarifa ya kusisimua ambayo ungependa tuichapishe? Tafadhali, wasiliana nasi kupitia news@tuko.co.ke au WhatsApp: 0732482690. MAKINIKA: Jinyakulie habari ZINAZOKUFAA ➡️ tafuta “IMEPENDEKEZWA KWA AJILI YAKO” na ufurahie! Chanzo: TUKO.co.ke\n",
      "Shillah Mwadosho                                    (Swahili editor)\n",
      "Shillah Mwadosho ni mwandishi wa habari wa TUKO.co.ke katika kitengo cha Kiswahili tangu 2019. Ana tajriba ya takriban miaka minne katika fani ya uandishi wa habari kwenye redio, televisheni na gazetini. Alipata ujuzi wa uanahabari katika taasisi ya Alphax mjini Eldoret. Yeye hujituliza kwa kusikiza muziki na kufurahia densi baada ya kazi. Email: shilla.mwadosho@tuko.co.ke\n",
      "Magazeti ya Kenya: Ndani ya saa 48 za mwisho za Muingereza Scott Campbell kabla ya kuuawa\n",
      "Serikali Yashtakiwa kwa Kunyima Wafungwa Haki za Tendo la Ndoa\n",
      "William Ruto Awachana Wanaokosoa Serikali Yake Akisema Hawana Mpango wa Maendeleo\n",
      "Stephen Letoo asema aliumia sana Raila aliposhindwa katika kura ya AUC, amtaka awanie urais 2027\n",
      "Pasta Ng'ang'a Amfukuza Ajuza Aliyekuwa Amehudhuria Kesha: \"Sitaki Wazee Hapa\"\n",
      "Safari ya Alikiba na Amina: Walivyokutana, Harusi Mbili Hadi Kupelekana Mahakamani Kuachana\n",
      "Lulu Hassan Ajibu Madai kuwa Yeye na Mumewe Hutofautiana Baada ya Mjadala Kwenye Runinga\n",
      "Picha 7 za Mwanamke Mwenye Makalio Makubwa Zinazomezewa Mate na \"Team Mafisi\"\n",
      "Martha Karua Asema Yuko Tayari Kufanya Kazi na Raila Tena, Akataa Kuwa Mgombea Mwenza\n",
      "Johnson Sakaja aomba radhi kituko cha wafanyakazi wake kurundika taka nje ya ofisi za Kenya Power\n",
      "Mama wa Kirinyaga wa Watoto 3 Aliyeenda Kazi Saudia Amerejea Akiwa Amepooza baada ya Kula Wali\n",
      "Babu Owino Atofautiana na Raila Odinga Amuunga Mkono Kalonzo Musyoka Kuwania Urais 2027\n",
      "Nyakwar Janeko Anadai Flaqo Hapokei Simu za Familia: \"Anafikiria Unataka Kuomba\"\n",
      "TUKO MEDIA LTD, 2025                             Haki zote zimelindwa\n"
     ]
    }
   ],
   "source": [
    "import re\n",
    "\n",
    "def extract_paragraphs_from_soup(soup):\n",
    "    \n",
    "    for line in soup.get_text().split(\"\\n\"):\n",
    "        line = line.strip()\n",
    "\n",
    "        if len(line) == 0:\n",
    "            continue\n",
    "\n",
    "        # needs to have a minimum length\n",
    "        if len(line) < 50:\n",
    "            continue\n",
    "\n",
    "        print(line)\n",
    "\n",
    "        # needs to contain at least one sentence marks\n",
    "        sentence_marks = \".,!?\"\n",
    "        counts = sum([line.count(x) for x in sentence_marks])\n",
    "\n",
    "        if counts == 0:\n",
    "            continue\n",
    "\n",
    "        # needs to have a ratio of upper / lower characters\n",
    "        lower = \"abcdefghijklmnobqrstuvwxyz\"\n",
    "        upper = lower.upper()\n",
    "\n",
    "        lower_ratio = sum(line.count(x) for x in lower) / len(line)\n",
    "        upper_ratio = sum(line.count(x) for x in upper) / len(line)\n",
    "\n",
    "        if lower_ratio > 0.95 or upper_ratio > 0.2:\n",
    "            continue\n",
    "\n",
    "        # should not end with ...\n",
    "        needle = \"...\"\n",
    "        if line[-3:] == needle:\n",
    "            continue\n",
    "\n",
    "        # print(line)\n",
    "        # yield line\n",
    "\n",
    "\n",
    "soup = BeautifulSoup(page[\"html\"], \"html.parser\")\n",
    "extract_paragraphs_from_soup(soup)\n"
   ]
  },
  {
   "cell_type": "code",
   "execution_count": null,
   "metadata": {},
   "outputs": [],
   "source": [
    "Video moja ilipepea mitandaoni ikionesha maharusi wakitoka kanisani kwa mtindo usio wa kawaidaWanawake walilala chini sakafuni kwenye mlango, na wenzi hao walikanyaga migongo yao wakipitaKanda hiyo ilizua tafrani kwenye mitandao ya kijamii, huku watu wakitania kwamba hali hiyo itawapata wanandoa hao iwapo wataachanaMAKINIKA: Tusaidie kubadilisha maisha ya wengi, jiunge na programu ya Patreon kutoka TUKO.co.ke.Video ya wanandoa wapya wakikanyaga kundi la wanawake katika kanisa moja nchini Tanzania imeibua hisia kwenye mitandao ya kijamii. Bwana harusi na bibi harusi walikanyaga migongo ya wanawake wakati wakitoka kanisani. Picha: @4designsstudios.Chanzo: InstagramKatika video hiyo iliyosambazwa Instagram, waliooa hivi karibuni - Humphrey na Monica - walitembea juu ya migongo ya wanawake mara baada ya kula kiapo kanisani.Wanawake, ambao walikuwa angalau 10, walilala upande kifudifudi chini, kwenye mlango wa kanisa.Humphrey na Monica wakasaidiwa kusawazisha huku wakiwakanyaga migongo wale wanawake.MAKINIKA: Bofya “Ona Kwanza” chini ya “Fuatilia” ili kuona Habari za TUKO kwenye jukwaa lako la HabariWengine wanaweza kuonekana wakipepesuka kwa maumivu wanapokanyagwa. Pia somaWanawake Tanzania Wasema Hawajawahi Kuwaona Warembo Kenya: \"Sio Wazuri\"Ingawa haijulikani ikiwa wanawake waliolala chini walikuwa na uhusiano na Humphrey au Monica, desturi hiyo ni maarufu katika Visiwa vya Marquesas vya Polinesia ya Ufaransa.Ni sawa na mila ya kuruka ufagio kwenye harusi. Wakijibu kanda hiyo, watumiaji wa mitandao ya kijamii walisikitishwa na desturi hiyo, wakisema ni ya kudhalilisha licha ya ishara ya kitamaduni inayobeba waliooana hivi karibuni.Muli Nduva:\"Nikiona mtu yeyote akimkanyaga mamangu hivyo, harusi itaisha.\"Wacira:\"Kwa jinsi mgongo wangu umekuwa ukihisi hivi karibuni, nawezaje kujilaza ahivi nikanyagwe jamani?\"Herbert:\"Wakichana, wanakukanyaga kinyume chake.\"Azeh:\"Nilidhani nimeona tamaduni zote dunaini. Sasa najua ninaanza tu.\"Umuhuzakls:\"Wasidhubutu kupata talaka baada ya hayo yote.\"Sally:\"Nilidhani nimeona kila kitu.\"Tam:\"Mama zako hawakuteseka kwa muda wa miezi tisa kwa wewe kukanyagwa na watu wa ndoa. Tafadhali simama.\"Kwa nini bwana harusi alivaa chupi ya bibi arusi?Wiki moja iliyopita, kwenye harusi nyingine, watu waliduwaa baada ya mwanamume kuvaa nguo za ndani za mke wake kwenye sherehe.Pia somaMagazeti ya Kenya: Mjane Kirinyaga Afariki Baada ya Nyumba yake Kuangukiwa na Ghorofa ya JiraniIliyofichuliwa na mke kupitia video kwenye TikTok, mwanamume huyo alivalia chupi ya zambarau kwenye harusi na punde akajutia uamuzi huo.Katika video hiyo, mwanamume huyo aliyevalia mavazi meupe ya asili ya Nigeria anaonekana akitembea bila raha huku mkewe akimfuata kwa karibu akicheka bila kujizuia.Haijulikani kwa nini mwanamume huyo alichagua kuvaa nguo za ndani kwenye harusi.Read ENGLISH VERSION Je, unayo taarifa ya kusisimua ambayo ungependa tuichapishe? Tafadhali, wasiliana nasi kupitia news@tuko.co.ke au WhatsApp: 0732482690. MAKINIKA: Jinyakulie habari ZINAZOKUFAA ➡️ tafuta “IMEPENDEKEZWA KWA AJILI YAKO” na ufurahie! Chanzo: TUKO.co.ke\n"
   ]
  },
  {
   "cell_type": "code",
   "execution_count": 133,
   "metadata": {},
   "outputs": [
    {
     "name": "stdout",
     "output_type": "stream",
     "text": [
      "Mitandao Yachemka Kufuatia Video ya Maharusi Kuonekana Wakiwakanyaga Wageni Baada ya Kufunga Ndoa\n",
      "Video moja ilipepea mitandaoni ikionesha maharusi wakitoka kanisani kwa mtindo usio wa kawaida\n",
      "Wanawake walilala chini sakafuni kwenye mlango, na wenzi hao walikanyaga migongo yao wakipita\n",
      "Kanda hiyo ilizua tafrani kwenye mitandao ya kijamii, huku watu wakitania kwamba hali hiyo itawapata wanandoa hao iwapo wataachana\n",
      "MAKINIKA: Tusaidie kubadilisha maisha ya wengi, jiunge na programu ya Patreon kutoka TUKO.co.ke.\n",
      "Video ya wanandoa wapya wakikanyaga kundi la wanawake katika kanisa moja nchini Tanzania imeibua hisia kwenye mitandao ya kijamii.\n",
      "Katika video hiyo iliyosambazwa Instagram, waliooa hivi karibuni - Humphrey na Monica - walitembea juu ya migongo ya wanawake mara baada ya kula kiapo kanisani.\n",
      "Wanawake, ambao walikuwa angalau 10, walilala upande kifudifudi chini, kwenye mlango wa kanisa.\n",
      "Humphrey na Monica wakasaidiwa kusawazisha huku wakiwakanyaga migongo wale wanawake.\n",
      "MAKINIKA: Bofya “Ona Kwanza” chini ya “Fuatilia” ili kuona Habari za TUKO kwenye jukwaa lako la Habari\n",
      "Wengine wanaweza kuonekana wakipepesuka kwa maumivu wanapokanyagwa.\n",
      "Wanawake Tanzania Wasema Hawajawahi Kuwaona Warembo Kenya: \"Sio Wazuri\"\n",
      "Ingawa haijulikani ikiwa wanawake waliolala chini walikuwa na uhusiano na Humphrey au Monica, desturi hiyo ni maarufu katika Visiwa vya Marquesas vya Polinesia ya Ufaransa.\n",
      "Wakijibu kanda hiyo, watumiaji wa mitandao ya kijamii walisikitishwa na desturi hiyo, wakisema ni ya kudhalilisha licha ya ishara ya kitamaduni inayobeba waliooana hivi karibuni.\n",
      "\"Nikiona mtu yeyote akimkanyaga mamangu hivyo, harusi itaisha.\"\n",
      "\"Kwa jinsi mgongo wangu umekuwa ukihisi hivi karibuni, nawezaje kujilaza ahivi nikanyagwe jamani?\"\n",
      "\"Nilidhani nimeona tamaduni zote dunaini. Sasa najua ninaanza tu.\"\n",
      "\"Mama zako hawakuteseka kwa muda wa miezi tisa kwa wewe kukanyagwa na watu wa ndoa. Tafadhali simama.\"\n",
      "Wiki moja iliyopita, kwenye harusi nyingine, watu waliduwaa baada ya mwanamume kuvaa nguo za ndani za mke wake kwenye sherehe.\n",
      "Magazeti ya Kenya: Mjane Kirinyaga Afariki Baada ya Nyumba yake Kuangukiwa na Ghorofa ya Jirani\n",
      "Iliyofichuliwa na mke kupitia video kwenye TikTok, mwanamume huyo alivalia chupi ya zambarau kwenye harusi na punde akajutia uamuzi huo.\n",
      "Katika video hiyo, mwanamume huyo aliyevalia mavazi meupe ya asili ya Nigeria anaonekana akitembea bila raha huku mkewe akimfuata kwa karibu akicheka bila kujizuia.\n",
      "Haijulikani kwa nini mwanamume huyo alichagua kuvaa nguo za ndani kwenye harusi.\n",
      "Je, unayo taarifa ya kusisimua ambayo ungependa tuichapishe? Tafadhali, wasiliana nasi kupitia news@tuko.co.ke au WhatsApp: 0732482690.\n",
      "Shillah Mwadosho ni mwandishi wa habari wa TUKO.co.ke katika kitengo cha Kiswahili tangu 2019. Ana tajriba ya takriban miaka minne katika fani ya uandishi wa habari kwenye redio, televisheni na gazetini. Alipata ujuzi wa uanahabari katika taasisi ya Alphax mjini Eldoret. Yeye hujituliza kwa kusikiza muziki na kufurahia densi baada ya kazi. Email: shilla.mwadosho@tuko.co.ke\n",
      "Shillah Mwadosho (Swahili editor)\n",
      "Magazeti ya Kenya: Ndani ya saa 48 za mwisho za Muingereza Scott Campbell kabla ya kuuawa\n",
      "Serikali Yashtakiwa kwa Kunyima Wafungwa Haki za Tendo la Ndoa\n",
      "William Ruto Awachana Wanaokosoa Serikali Yake Akisema Hawana Mpango wa Maendeleo\n",
      "Stephen Letoo asema aliumia sana Raila aliposhindwa katika kura ya AUC, amtaka awanie urais 2027\n",
      "Pasta Ng'ang'a Amfukuza Ajuza Aliyekuwa Amehudhuria Kesha: \"Sitaki Wazee Hapa\"\n",
      "Safari ya Alikiba na Amina: Walivyokutana, Harusi Mbili Hadi Kupelekana Mahakamani Kuachana\n",
      "Lulu Hassan Ajibu Madai kuwa Yeye na Mumewe Hutofautiana Baada ya Mjadala Kwenye Runinga\n",
      "Picha 7 za Mwanamke Mwenye Makalio Makubwa Zinazomezewa Mate na \"Team Mafisi\"\n",
      "Martha Karua Asema Yuko Tayari Kufanya Kazi na Raila Tena, Akataa Kuwa Mgombea Mwenza\n",
      "Johnson Sakaja aomba radhi kituko cha wafanyakazi wake kurundika taka nje ya ofisi za Kenya Power\n",
      "Mama wa Kirinyaga wa Watoto 3 Aliyeenda Kazi Saudia Amerejea Akiwa Amepooza baada ya Kula Wali\n",
      "Babu Owino Atofautiana na Raila Odinga Amuunga Mkono Kalonzo Musyoka Kuwania Urais 2027\n",
      "Nyakwar Janeko Anadai Flaqo Hapokei Simu za Familia: \"Anafikiria Unataka Kuomba\"\n",
      "TUKO MEDIA LTD, 2025 Haki zote zimelindwa\n"
     ]
    }
   ],
   "source": [
    "import re\n",
    "\n",
    "class HTML2Text:\n",
    "\n",
    "    def __init__(self):\n",
    "        self.replace_consecutive_whitespace = re.compile(r'\\s+')\n",
    "        self.nodeTypes = set([\"p\", \"li\", \"span\", \"h1\", \"h2\", \"h3\", \"h4\", \"h5\", \"h6\"])\n",
    "\n",
    "    def iterate_nodes(self, parent):\n",
    "\n",
    "        if not \"contents\" in parent.__dict__.keys():\n",
    "            return\n",
    "\n",
    "        for child in parent.contents:\n",
    "            if child.name in self.nodeTypes:\n",
    "                yield child\n",
    "            else:\n",
    "                for node in self.iterate_nodes(child):\n",
    "                    yield node\n",
    "\n",
    "    def clean_text(self, text):\n",
    "\n",
    "        lines = []\n",
    "        for line in text.split(\"\\n\"):\n",
    "            line = line.strip()\n",
    "\n",
    "            # needle = \"Mitandao Yachemka\"\n",
    "            # if line.find(needle) >= 0:\n",
    "            #     print(line)\n",
    "\n",
    "            if len(line) == 0:\n",
    "                continue\n",
    "\n",
    "            if len(line) == 0:\n",
    "                continue\n",
    "\n",
    "            # needs to have a minimum length\n",
    "            if len(line) < 50:\n",
    "                continue\n",
    "\n",
    "            # needs to contain at least one sentence marks\n",
    "            sentence_marks = \".,!?\"\n",
    "            counts = sum([line.count(x) for x in sentence_marks])\n",
    "\n",
    "            # if counts == 0:\n",
    "            #     continue\n",
    "\n",
    "            # needs to have a ratio of upper / lower characters\n",
    "            lower = \"abcdefghijklmnobqrstuvwxyz\"\n",
    "            upper = lower.upper()\n",
    "\n",
    "            lower_ratio = sum(line.count(x) for x in lower) / len(line)\n",
    "            upper_ratio = sum(line.count(x) for x in upper) / len(line)\n",
    "\n",
    "            if lower_ratio > 0.95 or upper_ratio > 0.2:\n",
    "                continue\n",
    "\n",
    "            # should not end with ...\n",
    "            needle = \"...\"\n",
    "            if line[-3:] == needle:\n",
    "                continue\n",
    "\n",
    "            line = self.replace_consecutive_whitespace.sub(\" \", line)\n",
    "\n",
    "            lines.append(line)\n",
    "\n",
    "        if len(lines) == 0:\n",
    "            return None\n",
    "        else:\n",
    "            lines = list(set(lines))\n",
    "            return \"\\n\".join(lines)\n",
    "            \n",
    "    def extract_text(self, soup):\n",
    "        texts = []\n",
    "        for node in self.iterate_nodes(soup):\n",
    "            text = self.clean_text(node.text)\n",
    "            if text is not None:\n",
    "                texts.append(text)\n",
    "        return \"\\n\".join(texts)\n",
    "\n",
    "soup = BeautifulSoup(page[\"html\"], \"html.parser\")\n",
    "html2text = HTML2Text()\n",
    "text = html2text.extract_text(soup)\n",
    "print(text)"
   ]
  },
  {
   "cell_type": "code",
   "execution_count": 118,
   "metadata": {},
   "outputs": [
    {
     "name": "stdout",
     "output_type": "stream",
     "text": [
      "https://kiswahili.tuko.co.ke/burudani/546945-mitandao-yachemka-kufuatia-video-ya-maharusi-kuonekana-wakiwakanyaga-wageni-baada-ya-kufunga-ndoa/\n"
     ]
    }
   ],
   "source": [
    "print(page[\"url\"])"
   ]
  },
  {
   "cell_type": "code",
   "execution_count": null,
   "metadata": {},
   "outputs": [],
   "source": []
  },
  {
   "cell_type": "code",
   "execution_count": null,
   "metadata": {},
   "outputs": [],
   "source": []
  },
  {
   "cell_type": "code",
   "execution_count": 74,
   "metadata": {},
   "outputs": [
    {
     "data": {
      "text/plain": [
       "True"
      ]
     },
     "execution_count": 74,
     "metadata": {},
     "output_type": "execute_result"
    }
   ],
   "source": [
    "\"contents\" in soup.__dict__.keys()"
   ]
  },
  {
   "cell_type": "code",
   "execution_count": 69,
   "metadata": {},
   "outputs": [],
   "source": [
    "for child in soup.children:\n",
    "\n",
    "    if not \"children\" in child.__dict__.keys():\n",
    "        continue\n",
    "    print(child.__dict__.keys())\n",
    "    for subchild in child.children:\n",
    "        print(child)\n",
    "        break\n",
    "    break"
   ]
  },
  {
   "cell_type": "code",
   "execution_count": 36,
   "metadata": {},
   "outputs": [
    {
     "data": {
      "text/plain": [
       "['Mitandao Yachemka Kufuatia Video ya Maharusi Kuonekana Wakiwakanyaga Wageni Baada ya Kufunga Ndoa - Tuko.co.ke',\n",
       " 'Swahili Watu Kenya Siasa Burudani Michezo Biashara Mahusiano Elimu',\n",
       " 'Swahili Watu Kenya Siasa Burudani Michezo Biashara Mahusiano Elimu',\n",
       " 'Global site navigation',\n",
       " 'Kenya',\n",
       " 'Siasa',\n",
       " 'Watu',\n",
       " 'Burudani',\n",
       " 'Habari za Ulimwengu',\n",
       " 'Michezo',\n",
       " 'Familia',\n",
       " 'Mahusiano',\n",
       " 'Biashara',\n",
       " 'Elimu',\n",
       " 'Makala za ndani',\n",
       " 'Kenya News',\n",
       " 'Habari za Kenya Swahili',\n",
       " '',\n",
       " 'Read now ➤',\n",
       " 'Mwanzo',\n",
       " 'Burudani',\n",
       " 'Burudani',\n",
       " 'Mitandao Yachemka Kufuatia Video ya Maharusi Kuonekana Wakiwakanyaga Wageni Baada ya Kufunga Ndoa',\n",
       " 'Alhamisi, Mei 02, 2024 at 3:31 PM',\n",
       " 'na',\n",
       " 'Shillah Mwadosho',\n",
       " '2            dakika za kusoma',\n",
       " 'Video moja ilipepea mitandaoni ikionesha maharusi wakitoka kanisani kwa mtindo usio wa kawaidaWanawake walilala chini sakafuni kwenye mlango, na wenzi hao walikanyaga migongo yao wakipitaKanda hiyo ilizua tafrani kwenye mitandao ya kijamii, huku watu wakitania kwamba hali hiyo itawapata wanandoa hao iwapo wataachanaMAKINIKA: Tusaidie kubadilisha maisha ya wengi, jiunge na programu ya Patreon kutoka TUKO.co.ke.Video ya wanandoa wapya wakikanyaga kundi la wanawake katika kanisa moja nchini Tanzania imeibua hisia kwenye mitandao ya kijamii. Bwana harusi na bibi harusi walikanyaga migongo ya wanawake wakati wakitoka kanisani. Picha: @4designsstudios.Chanzo: InstagramKatika video hiyo iliyosambazwa Instagram, waliooa hivi karibuni - Humphrey na Monica - walitembea juu ya migongo ya wanawake mara baada ya kula kiapo kanisani.Wanawake, ambao walikuwa angalau 10, walilala upande kifudifudi chini, kwenye mlango wa kanisa.Humphrey na Monica wakasaidiwa kusawazisha huku wakiwakanyaga migongo wale wanawake.MAKINIKA: Bofya “Ona Kwanza” chini ya “Fuatilia” ili kuona Habari za TUKO kwenye jukwaa lako la HabariWengine wanaweza kuonekana wakipepesuka kwa maumivu wanapokanyagwa. Pia somaWanawake Tanzania Wasema Hawajawahi Kuwaona Warembo Kenya: \"Sio Wazuri\"Ingawa haijulikani ikiwa wanawake waliolala chini walikuwa na uhusiano na Humphrey au Monica, desturi hiyo ni maarufu katika Visiwa vya Marquesas vya Polinesia ya Ufaransa.Ni sawa na mila ya kuruka ufagio kwenye harusi. Wakijibu kanda hiyo, watumiaji wa mitandao ya kijamii walisikitishwa na desturi hiyo, wakisema ni ya kudhalilisha licha ya ishara ya kitamaduni inayobeba waliooana hivi karibuni.Muli Nduva:\"Nikiona mtu yeyote akimkanyaga mamangu hivyo, harusi itaisha.\"Wacira:\"Kwa jinsi mgongo wangu umekuwa ukihisi hivi karibuni, nawezaje kujilaza ahivi nikanyagwe jamani?\"Herbert:\"Wakichana, wanakukanyaga kinyume chake.\"Azeh:\"Nilidhani nimeona tamaduni zote dunaini. Sasa najua ninaanza tu.\"Umuhuzakls:\"Wasidhubutu kupata talaka baada ya hayo yote.\"Sally:\"Nilidhani nimeona kila kitu.\"Tam:\"Mama zako hawakuteseka kwa muda wa miezi tisa kwa wewe kukanyagwa na watu wa ndoa. Tafadhali simama.\"Kwa nini bwana harusi alivaa chupi ya bibi arusi?Wiki moja iliyopita, kwenye harusi nyingine, watu waliduwaa baada ya mwanamume kuvaa nguo za ndani za mke wake kwenye sherehe.Pia somaMagazeti ya Kenya: Mjane Kirinyaga Afariki Baada ya Nyumba yake Kuangukiwa na Ghorofa ya JiraniIliyofichuliwa na mke kupitia video kwenye TikTok, mwanamume huyo alivalia chupi ya zambarau kwenye harusi na punde akajutia uamuzi huo.Katika video hiyo, mwanamume huyo aliyevalia mavazi meupe ya asili ya Nigeria anaonekana akitembea bila raha huku mkewe akimfuata kwa karibu akicheka bila kujizuia.Haijulikani kwa nini mwanamume huyo alichagua kuvaa nguo za ndani kwenye harusi.Read ENGLISH VERSION Je, unayo taarifa ya kusisimua ambayo ungependa tuichapishe? Tafadhali, wasiliana nasi kupitia news@tuko.co.ke au WhatsApp: 0732482690. MAKINIKA: Jinyakulie habari ZINAZOKUFAA ➡️ tafuta “IMEPENDEKEZWA KWA AJILI YAKO” na ufurahie! Chanzo: TUKO.co.ke',\n",
       " 'Authors:',\n",
       " 'Shillah Mwadosho                                    (Swahili editor)',\n",
       " '',\n",
       " 'Shillah Mwadosho ni mwandishi wa habari wa TUKO.co.ke katika kitengo cha Kiswahili tangu 2019. Ana tajriba ya takriban miaka minne katika fani ya uandishi wa habari kwenye redio, televisheni na gazetini. Alipata ujuzi wa uanahabari katika taasisi ya Alphax mjini Eldoret. Yeye hujituliza kwa kusikiza muziki na kufurahia densi baada ya kazi. Email: shilla.mwadosho@tuko.co.ke',\n",
       " 'Vichwa:',\n",
       " 'Uhusiano',\n",
       " '',\n",
       " 'Imependekezwa kwa ajili yako',\n",
       " 'Angalia taarifa zaidi kwa ajili yako',\n",
       " 'Endela kusoma',\n",
       " 'Punde',\n",
       " 'Magazeti ya Kenya: Ndani ya saa 48 za mwisho za Muingereza Scott Campbell kabla ya kuuawa',\n",
       " '3 minutes ago',\n",
       " 'Serikali Yashtakiwa kwa Kunyima Wafungwa Haki za Tendo la Ndoa',\n",
       " 'an hour ago',\n",
       " 'William Ruto Awachana Wanaokosoa Serikali Yake Akisema Hawana Mpango wa Maendeleo',\n",
       " 'an hour ago',\n",
       " 'Stephen Letoo asema aliumia sana Raila aliposhindwa katika kura ya AUC, amtaka awanie urais 2027',\n",
       " '12 hours ago',\n",
       " 'Pasta Ng\\'ang\\'a Amfukuza Ajuza Aliyekuwa Amehudhuria Kesha: \"Sitaki Wazee Hapa\"',\n",
       " '12 hours ago',\n",
       " 'Zinazovuma',\n",
       " 'Safari ya Alikiba na Amina: Walivyokutana, Harusi Mbili Hadi Kupelekana Mahakamani Kuachana',\n",
       " 'a year ago',\n",
       " 'Lulu Hassan Ajibu Madai kuwa Yeye na Mumewe Hutofautiana Baada ya Mjadala Kwenye Runinga',\n",
       " '5 months ago',\n",
       " 'Picha 7 za Mwanamke Mwenye Makalio Makubwa Zinazomezewa Mate na \"Team Mafisi\"',\n",
       " '2 years ago',\n",
       " 'Habari kuu',\n",
       " 'Martha Karua Asema Yuko Tayari Kufanya Kazi na Raila Tena, Akataa Kuwa Mgombea Mwenza',\n",
       " '16 hours ago',\n",
       " 'Johnson Sakaja aomba radhi kituko cha wafanyakazi wake kurundika taka nje ya ofisi za Kenya Power',\n",
       " '14 hours ago',\n",
       " 'Mama wa Kirinyaga wa Watoto 3 Aliyeenda Kazi Saudia Amerejea Akiwa Amepooza baada ya Kula Wali',\n",
       " '18 hours ago',\n",
       " 'Babu Owino Atofautiana na Raila Odinga Amuunga Mkono Kalonzo Musyoka Kuwania Urais 2027',\n",
       " '17 hours ago',\n",
       " 'Nyakwar Janeko Anadai Flaqo Hapokei Simu za Familia: \"Anafikiria Unataka Kuomba\"',\n",
       " '23 hours ago',\n",
       " '',\n",
       " 'Mengi kuhusu kampuni yetu',\n",
       " 'Kutuhusu',\n",
       " 'Timu yetu',\n",
       " 'Wasiliana nasi',\n",
       " 'Tangaza nasi',\n",
       " 'Tupe hadithi yako',\n",
       " 'Kuondoa DMCA',\n",
       " 'Sera ya Faragha',\n",
       " 'Sheria na Masharti',\n",
       " 'Sera na viwango',\n",
       " 'Sera ya Kuki',\n",
       " 'Mada',\n",
       " 'Makundi',\n",
       " 'Usiuze Taarifa Zangu za Kibinafsi',\n",
       " 'Ilani wakati wa kuchukua',\n",
       " 'Mtandao wa kijamii',\n",
       " 'Facebook',\n",
       " 'Habari kwa Kiswahili',\n",
       " 'Instagram',\n",
       " 'YouTube',\n",
       " 'X',\n",
       " 'Telegram',\n",
       " 'TikTok',\n",
       " 'LinkedIn',\n",
       " 'Mastodon',\n",
       " 'WhatsApp',\n",
       " 'Tusome',\n",
       " 'Programu zetu za simu',\n",
       " 'TUKO MEDIA LTD, 2025                             Haki zote zimelindwa']"
      ]
     },
     "execution_count": 36,
     "metadata": {},
     "output_type": "execute_result"
    }
   ],
   "source": [
    "segments = soup.get_text().split(\"\\n\")\n",
    "segments = filter(lambda s:len(s)>0, segments)\n",
    "segments = [s.strip() for s in segments]\n",
    "segments"
   ]
  },
  {
   "cell_type": "code",
   "execution_count": null,
   "metadata": {},
   "outputs": [],
   "source": [
    "from crawler import Parser, CrawlerConfig\n"
   ]
  }
 ],
 "metadata": {
  "kernelspec": {
   "display_name": "crawl_kinyarwanda",
   "language": "python",
   "name": "python3"
  },
  "language_info": {
   "codemirror_mode": {
    "name": "ipython",
    "version": 3
   },
   "file_extension": ".py",
   "mimetype": "text/x-python",
   "name": "python",
   "nbconvert_exporter": "python",
   "pygments_lexer": "ipython3",
   "version": "3.12.7"
  }
 },
 "nbformat": 4,
 "nbformat_minor": 2
}
