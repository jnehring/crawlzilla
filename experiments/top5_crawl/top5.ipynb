{
 "cells": [
  {
   "cell_type": "code",
   "execution_count": 2,
   "id": "9fd92a14",
   "metadata": {},
   "outputs": [
    {
     "data": {
      "text/html": [
       "<div>\n",
       "<style scoped>\n",
       "    .dataframe tbody tr th:only-of-type {\n",
       "        vertical-align: middle;\n",
       "    }\n",
       "\n",
       "    .dataframe tbody tr th {\n",
       "        vertical-align: top;\n",
       "    }\n",
       "\n",
       "    .dataframe thead th {\n",
       "        text-align: right;\n",
       "    }\n",
       "</style>\n",
       "<table border=\"1\" class=\"dataframe\">\n",
       "  <thead>\n",
       "    <tr style=\"text-align: right;\">\n",
       "      <th></th>\n",
       "      <th>url</th>\n",
       "      <th>url_host_registered_domain</th>\n",
       "      <th>content_languages</th>\n",
       "    </tr>\n",
       "  </thead>\n",
       "  <tbody>\n",
       "    <tr>\n",
       "      <th>0</th>\n",
       "      <td>https://learningapps.org/watch?app=13666293</td>\n",
       "      <td>learningapps.org</td>\n",
       "      <td>orm</td>\n",
       "    </tr>\n",
       "    <tr>\n",
       "      <th>1</th>\n",
       "      <td>https://learnmoreindiana.org/sw/college-discov...</td>\n",
       "      <td>learnmoreindiana.org</td>\n",
       "      <td>swa</td>\n",
       "    </tr>\n",
       "    <tr>\n",
       "      <th>2</th>\n",
       "      <td>https://learnmoreindiana.org/sw/paying-for-col...</td>\n",
       "      <td>learnmoreindiana.org</td>\n",
       "      <td>swa</td>\n",
       "    </tr>\n",
       "    <tr>\n",
       "      <th>3</th>\n",
       "      <td>https://learnmoreindiana.org/sw/scholars/maint...</td>\n",
       "      <td>learnmoreindiana.org</td>\n",
       "      <td>swa</td>\n",
       "    </tr>\n",
       "    <tr>\n",
       "      <th>4</th>\n",
       "      <td>https://tbdr.lshtm.ac.uk/results/ERR4800221</td>\n",
       "      <td>lshtm.ac.uk</td>\n",
       "      <td>hau</td>\n",
       "    </tr>\n",
       "    <tr>\n",
       "      <th>...</th>\n",
       "      <td>...</td>\n",
       "      <td>...</td>\n",
       "      <td>...</td>\n",
       "    </tr>\n",
       "    <tr>\n",
       "      <th>108463</th>\n",
       "      <td>https://www.kaimaoxingfactory.com/ha/404/</td>\n",
       "      <td>kaimaoxingfactory.com</td>\n",
       "      <td>hau</td>\n",
       "    </tr>\n",
       "    <tr>\n",
       "      <th>108464</th>\n",
       "      <td>https://www.kaimaoxingfactory.com/sw/</td>\n",
       "      <td>kaimaoxingfactory.com</td>\n",
       "      <td>swa</td>\n",
       "    </tr>\n",
       "    <tr>\n",
       "      <th>108465</th>\n",
       "      <td>https://www.kaimaoxingfactory.com/yo/detergent...</td>\n",
       "      <td>kaimaoxingfactory.com</td>\n",
       "      <td>yor</td>\n",
       "    </tr>\n",
       "    <tr>\n",
       "      <th>108466</th>\n",
       "      <td>http://yo.kaixingfurniture.com/</td>\n",
       "      <td>kaixingfurniture.com</td>\n",
       "      <td>yor</td>\n",
       "    </tr>\n",
       "    <tr>\n",
       "      <th>108467</th>\n",
       "      <td>https://www.kakogallery.com/product/mardi-gras...</td>\n",
       "      <td>kakogallery.com</td>\n",
       "      <td>swa</td>\n",
       "    </tr>\n",
       "  </tbody>\n",
       "</table>\n",
       "<p>108468 rows × 3 columns</p>\n",
       "</div>"
      ],
      "text/plain": [
       "                                                      url  \\\n",
       "0             https://learningapps.org/watch?app=13666293   \n",
       "1       https://learnmoreindiana.org/sw/college-discov...   \n",
       "2       https://learnmoreindiana.org/sw/paying-for-col...   \n",
       "3       https://learnmoreindiana.org/sw/scholars/maint...   \n",
       "4             https://tbdr.lshtm.ac.uk/results/ERR4800221   \n",
       "...                                                   ...   \n",
       "108463          https://www.kaimaoxingfactory.com/ha/404/   \n",
       "108464              https://www.kaimaoxingfactory.com/sw/   \n",
       "108465  https://www.kaimaoxingfactory.com/yo/detergent...   \n",
       "108466                    http://yo.kaixingfurniture.com/   \n",
       "108467  https://www.kakogallery.com/product/mardi-gras...   \n",
       "\n",
       "       url_host_registered_domain content_languages  \n",
       "0                learningapps.org               orm  \n",
       "1            learnmoreindiana.org               swa  \n",
       "2            learnmoreindiana.org               swa  \n",
       "3            learnmoreindiana.org               swa  \n",
       "4                     lshtm.ac.uk               hau  \n",
       "...                           ...               ...  \n",
       "108463      kaimaoxingfactory.com               hau  \n",
       "108464      kaimaoxingfactory.com               swa  \n",
       "108465      kaimaoxingfactory.com               yor  \n",
       "108466       kaixingfurniture.com               yor  \n",
       "108467            kakogallery.com               swa  \n",
       "\n",
       "[108468 rows x 3 columns]"
      ]
     },
     "execution_count": 2,
     "metadata": {},
     "output_type": "execute_result"
    }
   ],
   "source": [
    "import pandas as pd\n",
    "\n",
    "df = pd.read_csv(\"data/domains.csv.gz\", compression=\"gzip\")\n",
    "df"
   ]
  },
  {
   "cell_type": "code",
   "execution_count": 3,
   "id": "a2b6843e",
   "metadata": {},
   "outputs": [
    {
     "data": {
      "text/plain": [
       "content_languages\n",
       "swa    63787\n",
       "hau    17026\n",
       "amh    15308\n",
       "yor     9971\n",
       "orm     2376\n",
       "Name: count, dtype: int64"
      ]
     },
     "execution_count": 3,
     "metadata": {},
     "output_type": "execute_result"
    }
   ],
   "source": [
    "df.content_languages.value_counts()"
   ]
  },
  {
   "cell_type": "code",
   "execution_count": 13,
   "id": "239ca968",
   "metadata": {},
   "outputs": [
    {
     "name": "stdout",
     "output_type": "stream",
     "text": [
      "orm 106\n",
      "swa 1579\n",
      "hau 790\n",
      "yor 650\n",
      "amh 692\n"
     ]
    }
   ],
   "source": [
    "import os\n",
    "\n",
    "outfolder = \"data/seeds\"\n",
    "\n",
    "for language in df.content_languages.unique():\n",
    "    urls = df.query(\"content_languages==@language\").url_host_registered_domain.value_counts()\n",
    "    urls = {key:urls[key] for key in filter(lambda x:urls[x]>1, urls.keys())}\n",
    "    urls = list(urls.keys())\n",
    "    outfile = os.path.join(outfolder, language + \".txt\")\n",
    "    with open(outfile, \"w\") as f:\n",
    "        for url in urls:\n",
    "            f.write(f\"https://{url}\\n\")\n",
    "    print(language, len(urls))\n"
   ]
  },
  {
   "cell_type": "code",
   "execution_count": null,
   "id": "1fd72b8e",
   "metadata": {},
   "outputs": [],
   "source": []
  }
 ],
 "metadata": {
  "kernelspec": {
   "display_name": "base",
   "language": "python",
   "name": "python3"
  },
  "language_info": {
   "codemirror_mode": {
    "name": "ipython",
    "version": 3
   },
   "file_extension": ".py",
   "mimetype": "text/x-python",
   "name": "python",
   "nbconvert_exporter": "python",
   "pygments_lexer": "ipython3",
   "version": "3.13.2"
  }
 },
 "nbformat": 4,
 "nbformat_minor": 5
}
