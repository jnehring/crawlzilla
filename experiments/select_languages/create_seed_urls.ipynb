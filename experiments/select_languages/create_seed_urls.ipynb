{
 "cells": [
  {
   "cell_type": "code",
   "execution_count": 2,
   "metadata": {},
   "outputs": [
    {
     "data": {
      "text/html": [
       "<div>\n",
       "<style scoped>\n",
       "    .dataframe tbody tr th:only-of-type {\n",
       "        vertical-align: middle;\n",
       "    }\n",
       "\n",
       "    .dataframe tbody tr th {\n",
       "        vertical-align: top;\n",
       "    }\n",
       "\n",
       "    .dataframe thead th {\n",
       "        text-align: right;\n",
       "    }\n",
       "</style>\n",
       "<table border=\"1\" class=\"dataframe\">\n",
       "  <thead>\n",
       "    <tr style=\"text-align: right;\">\n",
       "      <th></th>\n",
       "      <th>url</th>\n",
       "      <th>content_languages</th>\n",
       "    </tr>\n",
       "  </thead>\n",
       "  <tbody>\n",
       "    <tr>\n",
       "      <th>0</th>\n",
       "      <td>https://www.imiziki.com/category/christopher-m...</td>\n",
       "      <td>kin</td>\n",
       "    </tr>\n",
       "    <tr>\n",
       "      <th>1</th>\n",
       "      <td>https://www.imiziki.com/category/liliane-kabag...</td>\n",
       "      <td>kin</td>\n",
       "    </tr>\n",
       "    <tr>\n",
       "      <th>2</th>\n",
       "      <td>http://karanle.blogspot.com/2018/03/garaad-oom...</td>\n",
       "      <td>som</td>\n",
       "    </tr>\n",
       "    <tr>\n",
       "      <th>3</th>\n",
       "      <td>http://karanle.blogspot.com/2018/07/halkuu-maa...</td>\n",
       "      <td>som</td>\n",
       "    </tr>\n",
       "    <tr>\n",
       "      <th>4</th>\n",
       "      <td>https://www.aoxinhvacr.com/am/</td>\n",
       "      <td>amh</td>\n",
       "    </tr>\n",
       "    <tr>\n",
       "      <th>...</th>\n",
       "      <td>...</td>\n",
       "      <td>...</td>\n",
       "    </tr>\n",
       "    <tr>\n",
       "      <th>6222371</th>\n",
       "      <td>https://www.kerrfagan.com/aubrey-plaza-upskirt</td>\n",
       "      <td>nya</td>\n",
       "    </tr>\n",
       "    <tr>\n",
       "      <th>6222372</th>\n",
       "      <td>http://sw.yaffiljewellery.com/metal-crystal-rh...</td>\n",
       "      <td>swa</td>\n",
       "    </tr>\n",
       "    <tr>\n",
       "      <th>6222373</th>\n",
       "      <td>https://sw.kingdomsalvation.org/recital-judgme...</td>\n",
       "      <td>swa</td>\n",
       "    </tr>\n",
       "    <tr>\n",
       "      <th>6222374</th>\n",
       "      <td>https://www.algolemus.com/profile/evenagi/foll...</td>\n",
       "      <td>nya</td>\n",
       "    </tr>\n",
       "    <tr>\n",
       "      <th>6222375</th>\n",
       "      <td>https://www.checkfresh.com/melvita.html?lang=mg</td>\n",
       "      <td>mlg</td>\n",
       "    </tr>\n",
       "  </tbody>\n",
       "</table>\n",
       "<p>6222376 rows × 2 columns</p>\n",
       "</div>"
      ],
      "text/plain": [
       "                                                       url content_languages\n",
       "0        https://www.imiziki.com/category/christopher-m...               kin\n",
       "1        https://www.imiziki.com/category/liliane-kabag...               kin\n",
       "2        http://karanle.blogspot.com/2018/03/garaad-oom...               som\n",
       "3        http://karanle.blogspot.com/2018/07/halkuu-maa...               som\n",
       "4                           https://www.aoxinhvacr.com/am/               amh\n",
       "...                                                    ...               ...\n",
       "6222371     https://www.kerrfagan.com/aubrey-plaza-upskirt               nya\n",
       "6222372  http://sw.yaffiljewellery.com/metal-crystal-rh...               swa\n",
       "6222373  https://sw.kingdomsalvation.org/recital-judgme...               swa\n",
       "6222374  https://www.algolemus.com/profile/evenagi/foll...               nya\n",
       "6222375    https://www.checkfresh.com/melvita.html?lang=mg               mlg\n",
       "\n",
       "[6222376 rows x 2 columns]"
      ]
     },
     "execution_count": 2,
     "metadata": {},
     "output_type": "execute_result"
    }
   ],
   "source": [
    "import pandas as pd\n",
    "import gzip\n",
    "\n",
    "df = pd.read_csv(\"~/Downloads/cc_websites.csv.gz\", compression=\"gzip\")\n",
    "df"
   ]
  },
  {
   "cell_type": "code",
   "execution_count": 6,
   "metadata": {},
   "outputs": [
    {
     "name": "stdout",
     "output_type": "stream",
     "text": [
      "wrote ../../outputs/seedurls/kin.txt.gz\n",
      "wrote ../../outputs/seedurls/som.txt.gz\n",
      "wrote ../../outputs/seedurls/amh.txt.gz\n",
      "wrote ../../outputs/seedurls/yor.txt.gz\n",
      "wrote ../../outputs/seedurls/swa.txt.gz\n",
      "wrote ../../outputs/seedurls/sna.txt.gz\n",
      "wrote ../../outputs/seedurls/mlg.txt.gz\n",
      "wrote ../../outputs/seedurls/ibo.txt.gz\n",
      "wrote ../../outputs/seedurls/orm.txt.gz\n",
      "wrote ../../outputs/seedurls/run.txt.gz\n",
      "wrote ../../outputs/seedurls/nya.txt.gz\n",
      "wrote ../../outputs/seedurls/tir.txt.gz\n",
      "wrote ../../outputs/seedurls/zul.txt.gz\n",
      "wrote ../../outputs/seedurls/hau.txt.gz\n",
      "wrote ../../outputs/seedurls/lin.txt.gz\n",
      "wrote ../../outputs/seedurls/aka.txt.gz\n"
     ]
    }
   ],
   "source": [
    "for language in df.content_languages.unique():\n",
    "    outfile = f\"../../outputs/seedurls/{language}.txt.gz\"\n",
    "    with gzip.open(outfile, \"wt\") as f:\n",
    "        for url in df.query(\"content_languages==@language\").url:\n",
    "            f.write(url)\n",
    "            f.write(\"\\n\")\n",
    "    print(\"wrote \" + outfile)\n",
    "    "
   ]
  }
 ],
 "metadata": {
  "kernelspec": {
   "display_name": "crawl_kinyarwanda",
   "language": "python",
   "name": "python3"
  },
  "language_info": {
   "codemirror_mode": {
    "name": "ipython",
    "version": 3
   },
   "file_extension": ".py",
   "mimetype": "text/x-python",
   "name": "python",
   "nbconvert_exporter": "python",
   "pygments_lexer": "ipython3",
   "version": "3.12.7"
  }
 },
 "nbformat": 4,
 "nbformat_minor": 2
}
