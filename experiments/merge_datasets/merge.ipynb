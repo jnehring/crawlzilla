{
 "cells": [
  {
   "cell_type": "code",
   "execution_count": 4,
   "id": "fdf0ceef",
   "metadata": {},
   "outputs": [
    {
     "name": "stderr",
     "output_type": "stream",
     "text": [
      "Generating train split: 100%|██████████| 93658/93658 [00:00<00:00, 241941.57 examples/s]\n"
     ]
    },
    {
     "data": {
      "text/plain": [
       "DatasetDict({\n",
       "    train: Dataset({\n",
       "        features: ['id', 'text', 'nr_words'],\n",
       "        num_rows: 93658\n",
       "    })\n",
       "})"
      ]
     },
     "execution_count": 4,
     "metadata": {},
     "output_type": "execute_result"
    }
   ],
   "source": [
    "from datasets import load_dataset\n",
    "\n",
    "ds = load_dataset(\"mbazaNLP/kinyarwanda_monolingual_v01.1\", token=open(\"huggingface_token.txt\").read())\n",
    "ds"
   ]
  },
  {
   "cell_type": "code",
   "execution_count": null,
   "id": "6b699add",
   "metadata": {},
   "outputs": [],
   "source": [
    "import nltk\n",
    "\n",
    "dedups = set()\n",
    "stats = {\n",
    "    \"duplicates\": 0,\n",
    "    \"words\": 0,\n",
    "    \"characters\": 0,\n",
    "    \"paragraphs\": 0\n",
    "}\n",
    "stats[\"duplicates\"]\n",
    "\n",
    "def dedup(doc):\n",
    "    dedups = []\n",
    "    n_wors = 0\n",
    "    for l in doc.split(\"\\n\"):\n",
    "        sent_text = nltk.sent_tokenize(l) # this gives us a list of sentences\n",
    "        stats[\"sentences\"] += len(sent_text)\n",
    "\n",
    "        dedup_line = []\n",
    "        for sent in sent_text:\n",
    "\n",
    "            # deduplicate\n",
    "            h = hash(sent)\n",
    "            if h in dedups:\n",
    "                stats[\"duplicates\"] += 1\n",
    "                continue\n",
    "            dedups.add(h)\n",
    "\n",
    "            stats[\"words\"] += len(sent.split(\" \"))\n",
    "            stats[\"characters\"] += len(sent)\n",
    "            n_words += len(sent.split(\" \"))\n",
    "\n",
    "            dedup_line.add()\n",
    "        \n",
    "        dedups.append(\" \".join(dedup_line))\n",
    "    yield \"\\n\".join(dedups)"
   ]
  },
  {
   "cell_type": "code",
   "execution_count": null,
   "id": "f0fb2f0d",
   "metadata": {},
   "outputs": [
    {
     "data": {
      "text/plain": [
       "{'id': 10293,\n",
       " 'text': 'Rayon Sports yakoze imyitozo ikomeye yitegura Sunrise FC [AMAFOTO] Ikipe ya Rayon Sports ikomeje imyitozo ikomeye yitegura umukino w’umunsi wa 18 izakiramo Sunrise FC. Robertinho avuga ko atari umukino bazajenjekera kuko ngo ubu bamaze kwiha intego yo kwitwara neza kuri buri mukino, bagahatanira igikombe nta kujenjekera ikipe iyo ariyo yose. Mu gitondo cyo kuri uyu wa Kabiri, abakinnyi ba Rayon Sports bakoreye imyotozo muri ‘Gym’, nimugoroba bakorera imyitozo yindi mu Nzove. Ni imyitozo yitabiriwe n’abakinnyi bose kuko nta n’umwe ufite imvune uretse Tuyishime Eric Congolais uri gukorera imyitozo ku ruhande kubera imvune ye itarakira neza. Rayon Sports iri kwitegura Sunrise FC bagomba guhura kuri uyu wa Gatanu tariki 1 Werurwe 2019 kuri Stade ya Kigali i Nyamirambo. Umukino ubanza wabaye tariki 1 Ugushyingo 2018, Rayon Sports yari yatsinze Sunrise FC 2-1 mu mukino Caleb yahawe ikarita itukura nyuma yo gukubita umugeri umufana wari winjiye mu kibuga. Nyuma y’imyitozo, Robertinho yaganiriye n’abanyamakuru abatangariza uko biteguye. Yemeje ko bari kwitegurana imbaraga nyinshi kuko ngo buri mukino bari kuwitaho cyane. Ati \" Turi kwitegura n’imbaraga nyinshi. Mu gitondo twakoreye muri Gym, nimugoroba dukora ibijyanye n’amayeri ndetse na tekiniki. Abakinnyi bose bakoranye imbaraga kandi bariteguye neza. Hashize ukwezi abakinnyi bakorera muri Gym mu gitondo nimugoroba tugakorera mu kibuga. Gym niyo shingiro y’imbaraga.\" Robertinho avuga ko ikibazo asigaranye ari ukugira abakinnyi bose beza b’abanyamahanga 4 (Michael Sarpong, Jonathan Da Silva, Mugheni Fabrice na Donkor Prosper) kandi asabwa gukoresha abakinnyi 3. Ati \" Ntabwo binyoroheye nk’umutoza kuko bose ni abakinnyi beza ariko turi kugerageza kubikoraho. Rayon Sports ni ikipe ikina ishaka gutsinda buri mukino ari nayo mpamvu bisaba guhitamo abakinnyi neza.\" Yakomeje avuga ko impamvu Da Silva atakinishijwe umukino wa Mukura VS ari uko yari afite ikibazo mu itako ariko ngo yamaze gukira neza. Undi umaze gukira neza ni Irambona Eric. Avuga ku buryo biteguye Sunrise FC, Robertinho yavuze ko utazaba ari umukino woroshye kuko Sunrise FC ifite abakinnyi bafite imbaraga n’ubunararibonye. Ati \" Sunrise ifite abakinnyi bafite imbaraga n’ibigango kandi bafite ubunararibonye. Ni ikipe nzi neza ari nayo mpamvu nasabye abakinnyi kwitegura n’imbaraga nyinshi uriya mukino. Tuzatanga ibyo dufite byose kuko intego yacu ni uguhatana kugera ku gikombe. Niba ushaka guhatanira igikombe, ugomba guha agaciro buri mukino. Ntabwo tuzajya tureba ngo ni Sunrise FC, ni APR,…ahubwo tugomba kwitegura buri mukino neza , tukazareba ikizavamo nyuma.\" Avuga uko yabonye Jules Ulimwengu, Robertinho yemeje ko ari rutahizamu mwiza yizeye ko azafasha Rayon Sports. Ati \" Ni umukinnyi mwiza, ni umukinnyi uzi gutsinda kandi ukunda gukora. Ni umukinnyi wihuta cyane , azadufasha. Bwa mbere',\n",
       " 'nr_words': 416}"
      ]
     },
     "execution_count": 8,
     "metadata": {},
     "output_type": "execute_result"
    }
   ],
   "source": [
    "import gzip\n",
    "\n",
    "writer = gzip.open(\"merged_dataset.txt.gz\", \"wb\")\n",
    "\n",
    "for doc in "
   ]
  },
  {
   "cell_type": "code",
   "execution_count": null,
   "id": "d0475a30",
   "metadata": {},
   "outputs": [],
   "source": [
    "import gz\n"
   ]
  }
 ],
 "metadata": {
  "kernelspec": {
   "display_name": "crawl_kinyarwanda",
   "language": "python",
   "name": "python3"
  },
  "language_info": {
   "codemirror_mode": {
    "name": "ipython",
    "version": 3
   },
   "file_extension": ".py",
   "mimetype": "text/x-python",
   "name": "python",
   "nbconvert_exporter": "python",
   "pygments_lexer": "ipython3",
   "version": "3.12.7"
  }
 },
 "nbformat": 4,
 "nbformat_minor": 5
}
