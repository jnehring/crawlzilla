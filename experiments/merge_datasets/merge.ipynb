{
 "cells": [
  {
   "cell_type": "code",
   "execution_count": null,
   "id": "fdf0ceef",
   "metadata": {},
   "outputs": [],
   "source": [
    "from datasets import load_dataset\n",
    "\n",
    "ds = load_dataset(\"mbazaNLP/kinyarwanda_monolingual_v01.1\", token=open(\"huggingface_token.txt\").read())\n",
    "ds"
   ]
  },
  {
   "cell_type": "code",
   "execution_count": null,
   "id": "d0475a30",
   "metadata": {},
   "outputs": [],
   "source": [
    "import gz"
   ]
  }
 ],
 "metadata": {
  "kernelspec": {
   "display_name": "crawl_kinyarwanda",
   "language": "python",
   "name": "python3"
  },
  "language_info": {
   "codemirror_mode": {
    "name": "ipython",
    "version": 3
   },
   "file_extension": ".py",
   "mimetype": "text/x-python",
   "name": "python",
   "nbconvert_exporter": "python",
   "pygments_lexer": "ipython3",
   "version": "3.12.7"
  }
 },
 "nbformat": 4,
 "nbformat_minor": 5
}
