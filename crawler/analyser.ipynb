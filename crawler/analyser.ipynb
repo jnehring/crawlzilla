{
 "cells": [
  {
   "cell_type": "code",
   "execution_count": 19,
   "metadata": {},
   "outputs": [
    {
     "data": {
      "text/html": [
       "<div>\n",
       "<style scoped>\n",
       "    .dataframe tbody tr th:only-of-type {\n",
       "        vertical-align: middle;\n",
       "    }\n",
       "\n",
       "    .dataframe tbody tr th {\n",
       "        vertical-align: top;\n",
       "    }\n",
       "\n",
       "    .dataframe thead th {\n",
       "        text-align: right;\n",
       "    }\n",
       "</style>\n",
       "<table border=\"1\" class=\"dataframe\">\n",
       "  <thead>\n",
       "    <tr style=\"text-align: right;\">\n",
       "      <th></th>\n",
       "      <th>url</th>\n",
       "      <th>url_host_registered_domain</th>\n",
       "      <th>content_languages</th>\n",
       "    </tr>\n",
       "  </thead>\n",
       "  <tbody>\n",
       "    <tr>\n",
       "      <th>0</th>\n",
       "      <td>http://brainlingo.com/html/top.htm</td>\n",
       "      <td>brainlingo.com</td>\n",
       "      <td>lin</td>\n",
       "    </tr>\n",
       "    <tr>\n",
       "      <th>1</th>\n",
       "      <td>https://www.everybarataa.com/</td>\n",
       "      <td>everybarataa.com</td>\n",
       "      <td>orm</td>\n",
       "    </tr>\n",
       "    <tr>\n",
       "      <th>2</th>\n",
       "      <td>https://www.everybarataa.com/a/prayers.html</td>\n",
       "      <td>everybarataa.com</td>\n",
       "      <td>orm</td>\n",
       "    </tr>\n",
       "    <tr>\n",
       "      <th>3</th>\n",
       "      <td>https://www.everybarataa.com/a/trinity1.html</td>\n",
       "      <td>everybarataa.com</td>\n",
       "      <td>orm</td>\n",
       "    </tr>\n",
       "    <tr>\n",
       "      <th>4</th>\n",
       "      <td>https://www.everybarataa.com/a/where.html</td>\n",
       "      <td>everybarataa.com</td>\n",
       "      <td>orm</td>\n",
       "    </tr>\n",
       "    <tr>\n",
       "      <th>...</th>\n",
       "      <td>...</td>\n",
       "      <td>...</td>\n",
       "      <td>...</td>\n",
       "    </tr>\n",
       "    <tr>\n",
       "      <th>127253</th>\n",
       "      <td>https://app.revoride.com/login</td>\n",
       "      <td>revoride.com</td>\n",
       "      <td>swa</td>\n",
       "    </tr>\n",
       "    <tr>\n",
       "      <th>127254</th>\n",
       "      <td>https://rexdlapk.com/ng/blog/disappearing-mess...</td>\n",
       "      <td>rexdlapk.com</td>\n",
       "      <td>hau</td>\n",
       "    </tr>\n",
       "    <tr>\n",
       "      <th>127255</th>\n",
       "      <td>https://rexdlapk.com/ng/blog/edit-sent-message...</td>\n",
       "      <td>rexdlapk.com</td>\n",
       "      <td>hau</td>\n",
       "    </tr>\n",
       "    <tr>\n",
       "      <th>127256</th>\n",
       "      <td>http://mrw.reycreo.com/gaming/contact-us</td>\n",
       "      <td>reycreo.com</td>\n",
       "      <td>kin</td>\n",
       "    </tr>\n",
       "    <tr>\n",
       "      <th>127257</th>\n",
       "      <td>http://mrw.reycreo.com/gaming/game/block-wood-...</td>\n",
       "      <td>reycreo.com</td>\n",
       "      <td>kin</td>\n",
       "    </tr>\n",
       "  </tbody>\n",
       "</table>\n",
       "<p>127258 rows × 3 columns</p>\n",
       "</div>"
      ],
      "text/plain": [
       "                                                      url  \\\n",
       "0                      http://brainlingo.com/html/top.htm   \n",
       "1                           https://www.everybarataa.com/   \n",
       "2             https://www.everybarataa.com/a/prayers.html   \n",
       "3            https://www.everybarataa.com/a/trinity1.html   \n",
       "4               https://www.everybarataa.com/a/where.html   \n",
       "...                                                   ...   \n",
       "127253                     https://app.revoride.com/login   \n",
       "127254  https://rexdlapk.com/ng/blog/disappearing-mess...   \n",
       "127255  https://rexdlapk.com/ng/blog/edit-sent-message...   \n",
       "127256           http://mrw.reycreo.com/gaming/contact-us   \n",
       "127257  http://mrw.reycreo.com/gaming/game/block-wood-...   \n",
       "\n",
       "       url_host_registered_domain content_languages  \n",
       "0                  brainlingo.com               lin  \n",
       "1                everybarataa.com               orm  \n",
       "2                everybarataa.com               orm  \n",
       "3                everybarataa.com               orm  \n",
       "4                everybarataa.com               orm  \n",
       "...                           ...               ...  \n",
       "127253               revoride.com               swa  \n",
       "127254               rexdlapk.com               hau  \n",
       "127255               rexdlapk.com               hau  \n",
       "127256                reycreo.com               kin  \n",
       "127257                reycreo.com               kin  \n",
       "\n",
       "[127258 rows x 3 columns]"
      ]
     },
     "execution_count": 19,
     "metadata": {},
     "output_type": "execute_result"
    }
   ],
   "source": [
    "import pandas as pd\n",
    "\n",
    "df = pd.read_csv(\"assets/source_websites.csv\")\n",
    "df"
   ]
  },
  {
   "cell_type": "code",
   "execution_count": null,
   "metadata": {},
   "outputs": [],
   "source": [
    "import os\n",
    "import json\n",
    "import gzip\n",
    "\n",
    "folder = \"output/parsed\"\n",
    "for file in os.listdir(folder):\n",
    "    if file[-8:] != \".json.gz\":\n",
    "        continue\n",
    "    with gzip.open(os.path.join(folder, file), \"rt\") as f:\n",
    "        for line in f:\n",
    "            line = json.loads(line)\n",
    "            print(line[\"language\"])\n",
    "            break\n",
    "    break\n"
   ]
  },
  {
   "cell_type": "code",
   "execution_count": 61,
   "metadata": {},
   "outputs": [],
   "source": [
    "df = df.sample(frac=1, random_state=0)\n",
    "with open(\"output/seed_urls.txt\", \"w\")  as f:\n",
    "    for url in df.url:\n",
    "        f.write(url)\n",
    "        f.write(\"\\n\")"
   ]
  },
  {
   "cell_type": "code",
   "execution_count": 74,
   "metadata": {},
   "outputs": [
    {
     "name": "stdout",
     "output_type": "stream",
     "text": [
      "This is a test string.\n"
     ]
    }
   ],
   "source": [
    "import re\n",
    "\n",
    "def remove_extra_whitespace(text):\n",
    "    return re.sub(r'\\s+', ' ', text).strip()\n",
    "\n",
    "# Example usage\n",
    "text = \"This   is   a   test    string.\"\n",
    "clean_text = remove_extra_whitespace(text)\n",
    "print(clean_text)  # Output: \"This is a test string.\"\n"
   ]
  },
  {
   "cell_type": "code",
   "execution_count": 47,
   "metadata": {},
   "outputs": [],
   "source": [
    "from dataclasses import dataclass\n",
    "import os\n",
    "import pandas as pd\n",
    "from abc import ABC, abstractmethod\n",
    "from typing import List\n",
    "import requests\n",
    "import re\n",
    "import threading\n",
    "import json\n",
    "from joblib import Parallel, delayed\n",
    "\n",
    "@dataclass\n",
    "class CrawlerConfig:\n",
    "\n",
    "    def __init__(self,\n",
    "        output_folder : str = \"output\",\n",
    "        html_folder : str = \"html\",\n",
    "        seed_file : str = \"websites_to_crawl.csv\",\n",
    "        languages : List[str] = ['swa', 'kin', 'yor', 'run', 'hau', 'amh', 'orm', 'lin'],\n",
    "        ):\n",
    "\n",
    "        self.output_folder : str = output_folder\n",
    "        self.html_folder : str = html_folder\n",
    "        self.seed_file : str = seed_file\n",
    "        self.languages = languages\n",
    "\n",
    "def download(url):\n",
    "    html = requests.get(url).text\n",
    "    json_data = {\n",
    "        \"url\": url,\n",
    "        \"html\": html\n",
    "    }\n",
    "    json_data = json.dumps(json_data)\n",
    "    return json_data\n",
    "\n",
    "class HTMLStore:\n",
    "\n",
    "    def __init__(self, config : CrawlerConfig):\n",
    "\n",
    "        self.html_folder = os.path.join(config.output_folder, config.html_folder)\n",
    "        if not os.path.exists(self.html_folder):\n",
    "            os.makedirs(self.html_folder)\n",
    "\n",
    "        self.current_round = 1\n",
    "        self.crawled_urls = set()\n",
    "\n",
    "        self.downloaded_urls_file = os.path.join(config.output_folder, \"downloaded_urls.txt\")\n",
    "        \n",
    "        self.downloaded_urls = set()\n",
    "        if os.path.exists(self.downloaded_urls_file):\n",
    "            self.downloaded_urls = set(open(self.downloaded_urls_file).readlines())\n",
    "\n",
    "        self.downloaded_urls_writer = open(self.downloaded_urls_file, \"a\")\n",
    "\n",
    "        self.dump_file_index = 1\n",
    "        self.dump_writer = None\n",
    "\n",
    "    def init_dump_writer(self):\n",
    "        while True:\n",
    "            self.dump_file = os.path.join(self.html_folder, f\"{self.dump_file_index:05}.json\")\n",
    "            if os.path.exists(self.dump_file):\n",
    "                self.dump_file_index += 1\n",
    "            else:\n",
    "                break\n",
    "\n",
    "        self.dump_writer = open(self.dump_file, \"w\")\n",
    "        self.dump_writer_lines = 0\n",
    "\n",
    "    def download_urls(self, urls : List[str]):\n",
    "\n",
    "        if self.dump_writer is None:\n",
    "            self.init_dump_writer()\n",
    "            \n",
    "        batch_size = 100\n",
    "        for i in range(0, len(urls), batch_size):\n",
    "            batch = urls[i:i+batch_size]\n",
    "\n",
    "            def download(url):\n",
    "                json_data = {\n",
    "                    \"url\": url,\n",
    "                }\n",
    "\n",
    "                try:\n",
    "                    r = requests.get(url)\n",
    "                    json_data[\"status\"] = r.status_code\n",
    "                    if r.status_code >= 200 and r.status_code < 300: \n",
    "                        json_data[\"html\"] = r.text\n",
    "                except Exception as e:\n",
    "                    json_data[\"status\"] = -1\n",
    "                    json_data[\"error\"] = str(e)\n",
    "\n",
    "                return json_data\n",
    "\n",
    "            data = Parallel(n_jobs=5)(delayed(download)(x) for x in urls)\n",
    "\n",
    "            for row in data:\n",
    "                self.dump_writer.write(json.dumps(row))\n",
    "                self.dump_writer.write(\"\\n\")\n",
    "                self.downloaded_urls_writer.write(url)\n",
    "                self.downloaded_urls_writer.write(\"\\n\")\n",
    "            \n",
    "\n",
    "config = CrawlerConfig()\n",
    "html_store = HTMLStore(config)\n",
    "url = \"https://www.everybarataa.com/a/prayers.html\"\n",
    "urls = list(df.sample(n=10, random_state=0).url)\n",
    "html_store.download_urls(urls)"
   ]
  },
  {
   "cell_type": "code",
   "execution_count": 60,
   "metadata": {},
   "outputs": [
    {
     "name": "stdout",
     "output_type": "stream",
     "text": [
      "http://rw.inductiondeepfryer.com/household-induction-cooker/\n",
      "[\"ï»¿     Uruganda rwinjiza uruganda rukora ibicuruzwa n'ababitanga - Uruganda rwo mu rugo rwinjira mu Bushinwa                      Hamagara: + 86-0757-29311597            Murugo Ibicuruzwa  Guteka Kwinjiza Ubucuruzi Kwinjiza Ubucuruzi Byimbitse Ubushyuhe bwo Kwinjira Umutetsi wo murugo  Gukomatanya Infrared na Induction Cooker Guteka murugo Urugo Rutemewe Urugo Imitwe myinshi-Induction Guteka     Isosiyete  Ibyerekeye Twebwe Urugendo Imurikagurisha Icyemezo   OEM / ODM Amakuru Twandikire         English                      Murugo Ibicuruzwa  Umutetsi wo murugo  Guteka murugo  ibicuruzwa         Ibyiciro   Guteka Kwinjiza Ubucuruzi Kwinjiza Ubucuruzi Byimbitse Ubushyuhe bwo Kwinjira Umutetsi wo murugo  Gukomatanya Infrared na Induction Cooker Guteka murugo Urugo Rutemewe Urugo Imitwe myinshi-Induction Guteka       Ibicuruzwa byihariye          Indabyo z'ubucuruzi Indyo ...        Imirimo iremereye Yubatswe muri Commerc ...        Ibyokurya byubatswe muri Commercia ...        Yubatswe mubucuruzi Inducti ...        Ubushobozi bunini 35L Commerci ...        Urunigi rwibiryo byihuse 15L (4 gallo ...        Yubatswe mubucuruzi Inducti ...        Igendanwa / Yubatswe muri Commerci ...                      Ibikorwa Byinshi Byinshi Byinshi Byakongejwe Gutwika Induction Cook-AM-D122 Iyi induction yo gutekesha hamwe na firime imwe AM-D122 ifite ibikoresho bya tekinoroji ya IGBT yatumijwe mu mahanga, byemeza ko bihamye kandi biramba.Hamwe nibikorwa byayo bizigama kandi bikora neza, ni amahitamo meza murugo urwo arirwo rwose.Sezera kuri fagitire nyinshi z'amashanyarazi kandi muraho kuburyo burambye bwo guteka! Kimwe mu bintu bigaragara biranga guteka kwacu ni ubushobozi buke bwo guteka.Ibi bivuze ko ushobora kwishimira ubushyuhe butajegajega kandi buhoraho utitaye kubyo kurya byawe bitetse.Nibyiza guteka, gukaranga, guteka, ndetse no gukaranga!    ipererezaburambuye           Guhuza Inzu Yinjiza Igikoni Gutwika Imashini imwe ikora AM-D121 Iyi gutekesha induction hamwe na firime imwe AM-D121 ikoresha amashanyarazi ya electronique kugirango ushushe ibikoresho bitetse, bigere kumashanyarazi ako kanya.Sezera kubihe byo gutegereza birakaze - guteka induction birashyuha mumasegonda!Kuva amazi abira kugeza isosi yo guteka, uzabona umuvuduko ntagereranywa hamwe nigikorwa mugikoni. Gukora resitora nziza-yuzuye irashobora kugerwaho hamwe nubushyuhe nyabwo butangwa na induction.Hamwe nubushyuhe buringaniye hamwe nimbaraga zuzuye, urashobora kugera byoroshye ibisubizo byiza byo guteka igihe cyose.Umunsi wibiryo bitetse cyangwa bitetse - guteka induction bigufasha guteka neza kandi neza.    ipererezaburambuye           Igikoresho kimwe cyo gutwika Imikorere myinshi yo gutekesha uruganda Igiciro AM-D120 AM-D120, igikoni kimwe cyo gutwika gutwika ni isonga ryubuhanga bugezweho bwo guteka kandi butanga inyungu zinyuranye zituma bagomba-kuba kubantu bose bakunda guteka.Ubushyuhe bwihuse, guteka neza, gukoresha ingufu, ibiranga umutekano, gukora isuku byoroshye, guhitamo ibintu byinshi hamwe nuburyo bwa stilish byose bigira uruhare mubyifuzo no guha agaciro guteka.Induction zitetse zizana ibyoroshye, gukora neza nuburyo bwiza mugikoni cyawe, bikubiyemo ejo hazaza ho guteka no kongera uburambe bwawe bwo guteka.    ipererezaburambuye           Imikorere myinshi imwe yo gutwika Induction Cooktop Yakozwe AM-D116 AM-D116, icyotsa kimwe Induction zitetse zihuza imikorere, neza n'umutekano mubice byiza kandi bigezweho.Sezera kumipaka yo guteka gakondo kandi wemere ejo hazaza heza ho guteka.Hamwe ninkuba yihuta yubushyuhe, gukoresha ingufu, kongera umutekano wumutekano, kugenzura neza ubushyuhe no kubungabunga byoroshye.    ipererezaburambuye                Kubaza ibicuruzwa byacu cyangwa pricelist, nyamuneka udusigire imeri hanyuma tuzabonana mumasaha 24.Kubaza            Murugo  Ibyerekeye Twebwe Ibicuruzwa Amakuru Twandikire    Ibicuruzwa byacu  Guteka Kwinjiza Ubucuruzi Kwinjiza Ubucuruzi Byimbitse Ubushyuhe bwo Kwinjira Umutetsi wo murugo    Twandikire  Aderesi: Guhagarika C, Inyubako yinganda za Demei, N0.7 Umuhanda wa Jianfeng, Ronggui, Shunde, Foshan, Guangdong, Ubushinwa Terefone:+ 86-0757-29311597 Imeri:steven@ample-wonder.com Mob / WhatsApp:+86 136-3115-8918 Imeri:amber@ample-wonder.com Mob / WhatsApp:+ 86-137-9002-9091     Â© Copyright - 2020-2023: Uburenganzira bwose burabitswe. Ikarita - AMP Mobile Ibikoresho byubucuruzi,  Amashanyarazi,  Ibikoresho bya resitora,  Guteka Amashanyarazi,  Kwinjiza ibicuruzwa,  Induction Cooker, \\t          Ohereza imeri  x                   Kanda enter kugirango ushakishe cyangwa ESC kugirango ufunge         EnglishFrenchGermanPortugueseSpanishRussianJapaneseKoreanArabicIrishGreekTurkishItalianDanishRomanianIndonesianCzechAfrikaansSwedishPolishBasqueCatalanEsperantoHindiLaoAlbanianAmharicArmenianAzerbaijaniBelarusianBengaliBosnianBulgarianCebuanoChichewaCorsicanCroatianDutchEstonianFilipinoFinnishFrisianGalicianGeorgianGujaratiHaitianHausaHawaiianHebrewHmongHungarianIcelandicIgboJavaneseKannadaKazakhKhmerKurdishKyrgyzLatinLatvianLithuanianLuxembou..MacedonianMalagasyMalayMalayalamMalteseMaoriMarathiMongolianBurmeseNepaliNorwegianPashtoPersianPunjabiSerbianSesothoSinhalaSlovakSlovenianSomaliSamoanScots GaelicShonaSindhiSundaneseSwahiliTajikTamilTeluguThaiUkrainianUrduUzbekVietnameseWelshXhosaYiddishYorubaZuluKinyarwandaTatarOriyaTurkmenUyghur\"]\n"
     ]
    }
   ],
   "source": [
    "from bs4 import BeautifulSoup\n",
    "\n",
    "def extract_paragraphs(infile):\n",
    "    html = open(infile)\n",
    "    html = html.readlines()[1:]\n",
    "    html = \"\\n\".join(html)\n",
    "\n",
    "    soup = BeautifulSoup(html, \"html.parser\")\n",
    "    for p in extract_paragraphs_from_soup(soup):\n",
    "        yield p\n",
    "\n",
    "def extract_paragraphs_from_soup(soup):\n",
    "\n",
    "    for line in soup.get_text().split(\"\\n\"):\n",
    "        line = line.strip()\n",
    "\n",
    "        if len(line) == 0:\n",
    "            continue\n",
    "\n",
    "        # needs to have a minimum length\n",
    "        if len(line) < 50:\n",
    "            continue\n",
    "\n",
    "        # needs to contain at least one sentence marks\n",
    "        sentence_marks = \".,!?\"\n",
    "        counts = sum([line.count(x) for x in sentence_marks])\n",
    "\n",
    "        if counts == 0:\n",
    "            continue\n",
    "\n",
    "        # needs to have a ratio of upper / lower characters\n",
    "        lower = \"abcdefghijklmnobqrstuvwxyz\"\n",
    "        upper = lower.upper()\n",
    "\n",
    "        lower_ratio = sum(line.count(x) for x in lower) / len(line)\n",
    "        upper_ratio = sum(line.count(x) for x in upper) / len(line)\n",
    "\n",
    "        if lower_ratio > 0.95 or upper_ratio > 0.2:\n",
    "            continue\n",
    "\n",
    "        # should not end with ...\n",
    "        needle = \"...\"\n",
    "        if line[-3:] == needle:\n",
    "            continue\n",
    "\n",
    "        yield line\n",
    "\n",
    "def analyze_download(line):\n",
    "    data = json.loads(line)\n",
    "    print(data[\"url\"])\n",
    "    soup = BeautifulSoup(data[\"html\"], \"html.parser\")\n",
    "    paragraphs = extract_paragraphs_from_soup(soup)\n",
    "    print(list(paragraphs))\n",
    "\n",
    "infile = \"output/html/00001.json\"\n",
    "for line in open(infile, \"r\"):\n",
    "    analyze_download(line)\n",
    "    break"
   ]
  },
  {
   "cell_type": "code",
   "execution_count": 52,
   "metadata": {},
   "outputs": [],
   "source": [
    "html = \"\"\"\n",
    "<div class=\"row bigbox container mi-df-local locked-single\">test</div>\n",
    "\"\"\"\n",
    "\n",
    "soup = BeautifulSoup(html, \"html.parser\")\n"
   ]
  },
  {
   "cell_type": "code",
   "execution_count": 38,
   "metadata": {},
   "outputs": [
    {
     "name": "stderr",
     "output_type": "stream",
     "text": [
      "Process SpawnPoolWorker-137:\n",
      "Traceback (most recent call last):\n",
      "  File \"/opt/miniconda3/envs/kinybench/lib/python3.12/multiprocessing/process.py\", line 314, in _bootstrap\n",
      "    self.run()\n",
      "  File \"/opt/miniconda3/envs/kinybench/lib/python3.12/multiprocessing/process.py\", line 108, in run\n",
      "    self._target(*self._args, **self._kwargs)\n",
      "  File \"/opt/miniconda3/envs/kinybench/lib/python3.12/multiprocessing/pool.py\", line 114, in worker\n",
      "    task = get()\n",
      "           ^^^^^\n",
      "  File \"/opt/miniconda3/envs/kinybench/lib/python3.12/multiprocessing/queues.py\", line 389, in get\n",
      "    return _ForkingPickler.loads(res)\n",
      "           ^^^^^^^^^^^^^^^^^^^^^^^^^^\n",
      "AttributeError: Can't get attribute 'xx' on <module '__main__' (<class '_frozen_importlib.BuiltinImporter'>)>\n",
      "Process SpawnPoolWorker-139:\n",
      "Process SpawnPoolWorker-138:\n",
      "Process SpawnPoolWorker-136:\n",
      "Process SpawnPoolWorker-135:\n"
     ]
    },
    {
     "ename": "KeyboardInterrupt",
     "evalue": "",
     "output_type": "error",
     "traceback": [
      "\u001b[0;31m---------------------------------------------------------------------------\u001b[0m",
      "\u001b[0;31mKeyboardInterrupt\u001b[0m                         Traceback (most recent call last)",
      "Cell \u001b[0;32mIn[38], line 5\u001b[0m\n\u001b[1;32m      2\u001b[0m     \u001b[38;5;28;01mreturn\u001b[39;00m url\n\u001b[1;32m      4\u001b[0m \u001b[38;5;28;01mwith\u001b[39;00m multiprocessing\u001b[38;5;241m.\u001b[39mPool(\u001b[38;5;241m4\u001b[39m) \u001b[38;5;28;01mas\u001b[39;00m pool:\n\u001b[0;32m----> 5\u001b[0m     downloads \u001b[38;5;241m=\u001b[39m \u001b[43mpool\u001b[49m\u001b[38;5;241;43m.\u001b[39;49m\u001b[43mmap\u001b[49m\u001b[43m(\u001b[49m\u001b[43mxx\u001b[49m\u001b[43m,\u001b[49m\u001b[43m \u001b[49m\u001b[43m[\u001b[49m\u001b[38;5;124;43m\"\u001b[39;49m\u001b[38;5;124;43mhttps://darshopping.shop/product/4-in-1-laser-measuring-tool-laser-level-measuring-ruler/\u001b[39;49m\u001b[38;5;124;43m\"\u001b[39;49m\u001b[43m]\u001b[49m\u001b[43m)\u001b[49m\n",
      "File \u001b[0;32m/opt/miniconda3/envs/kinybench/lib/python3.12/multiprocessing/pool.py:367\u001b[0m, in \u001b[0;36mPool.map\u001b[0;34m(self, func, iterable, chunksize)\u001b[0m\n\u001b[1;32m    362\u001b[0m \u001b[38;5;28;01mdef\u001b[39;00m \u001b[38;5;21mmap\u001b[39m(\u001b[38;5;28mself\u001b[39m, func, iterable, chunksize\u001b[38;5;241m=\u001b[39m\u001b[38;5;28;01mNone\u001b[39;00m):\n\u001b[1;32m    363\u001b[0m \u001b[38;5;250m    \u001b[39m\u001b[38;5;124;03m'''\u001b[39;00m\n\u001b[1;32m    364\u001b[0m \u001b[38;5;124;03m    Apply `func` to each element in `iterable`, collecting the results\u001b[39;00m\n\u001b[1;32m    365\u001b[0m \u001b[38;5;124;03m    in a list that is returned.\u001b[39;00m\n\u001b[1;32m    366\u001b[0m \u001b[38;5;124;03m    '''\u001b[39;00m\n\u001b[0;32m--> 367\u001b[0m     \u001b[38;5;28;01mreturn\u001b[39;00m \u001b[38;5;28;43mself\u001b[39;49m\u001b[38;5;241;43m.\u001b[39;49m\u001b[43m_map_async\u001b[49m\u001b[43m(\u001b[49m\u001b[43mfunc\u001b[49m\u001b[43m,\u001b[49m\u001b[43m \u001b[49m\u001b[43miterable\u001b[49m\u001b[43m,\u001b[49m\u001b[43m \u001b[49m\u001b[43mmapstar\u001b[49m\u001b[43m,\u001b[49m\u001b[43m \u001b[49m\u001b[43mchunksize\u001b[49m\u001b[43m)\u001b[49m\u001b[38;5;241;43m.\u001b[39;49m\u001b[43mget\u001b[49m\u001b[43m(\u001b[49m\u001b[43m)\u001b[49m\n",
      "File \u001b[0;32m/opt/miniconda3/envs/kinybench/lib/python3.12/multiprocessing/pool.py:768\u001b[0m, in \u001b[0;36mApplyResult.get\u001b[0;34m(self, timeout)\u001b[0m\n\u001b[1;32m    767\u001b[0m \u001b[38;5;28;01mdef\u001b[39;00m \u001b[38;5;21mget\u001b[39m(\u001b[38;5;28mself\u001b[39m, timeout\u001b[38;5;241m=\u001b[39m\u001b[38;5;28;01mNone\u001b[39;00m):\n\u001b[0;32m--> 768\u001b[0m     \u001b[38;5;28;43mself\u001b[39;49m\u001b[38;5;241;43m.\u001b[39;49m\u001b[43mwait\u001b[49m\u001b[43m(\u001b[49m\u001b[43mtimeout\u001b[49m\u001b[43m)\u001b[49m\n\u001b[1;32m    769\u001b[0m     \u001b[38;5;28;01mif\u001b[39;00m \u001b[38;5;129;01mnot\u001b[39;00m \u001b[38;5;28mself\u001b[39m\u001b[38;5;241m.\u001b[39mready():\n\u001b[1;32m    770\u001b[0m         \u001b[38;5;28;01mraise\u001b[39;00m \u001b[38;5;167;01mTimeoutError\u001b[39;00m\n",
      "File \u001b[0;32m/opt/miniconda3/envs/kinybench/lib/python3.12/multiprocessing/pool.py:765\u001b[0m, in \u001b[0;36mApplyResult.wait\u001b[0;34m(self, timeout)\u001b[0m\n\u001b[1;32m    764\u001b[0m \u001b[38;5;28;01mdef\u001b[39;00m \u001b[38;5;21mwait\u001b[39m(\u001b[38;5;28mself\u001b[39m, timeout\u001b[38;5;241m=\u001b[39m\u001b[38;5;28;01mNone\u001b[39;00m):\n\u001b[0;32m--> 765\u001b[0m     \u001b[38;5;28;43mself\u001b[39;49m\u001b[38;5;241;43m.\u001b[39;49m\u001b[43m_event\u001b[49m\u001b[38;5;241;43m.\u001b[39;49m\u001b[43mwait\u001b[49m\u001b[43m(\u001b[49m\u001b[43mtimeout\u001b[49m\u001b[43m)\u001b[49m\n",
      "File \u001b[0;32m/opt/miniconda3/envs/kinybench/lib/python3.12/threading.py:655\u001b[0m, in \u001b[0;36mEvent.wait\u001b[0;34m(self, timeout)\u001b[0m\n\u001b[1;32m    653\u001b[0m signaled \u001b[38;5;241m=\u001b[39m \u001b[38;5;28mself\u001b[39m\u001b[38;5;241m.\u001b[39m_flag\n\u001b[1;32m    654\u001b[0m \u001b[38;5;28;01mif\u001b[39;00m \u001b[38;5;129;01mnot\u001b[39;00m signaled:\n\u001b[0;32m--> 655\u001b[0m     signaled \u001b[38;5;241m=\u001b[39m \u001b[38;5;28;43mself\u001b[39;49m\u001b[38;5;241;43m.\u001b[39;49m\u001b[43m_cond\u001b[49m\u001b[38;5;241;43m.\u001b[39;49m\u001b[43mwait\u001b[49m\u001b[43m(\u001b[49m\u001b[43mtimeout\u001b[49m\u001b[43m)\u001b[49m\n\u001b[1;32m    656\u001b[0m \u001b[38;5;28;01mreturn\u001b[39;00m signaled\n",
      "File \u001b[0;32m/opt/miniconda3/envs/kinybench/lib/python3.12/threading.py:355\u001b[0m, in \u001b[0;36mCondition.wait\u001b[0;34m(self, timeout)\u001b[0m\n\u001b[1;32m    353\u001b[0m \u001b[38;5;28;01mtry\u001b[39;00m:    \u001b[38;5;66;03m# restore state no matter what (e.g., KeyboardInterrupt)\u001b[39;00m\n\u001b[1;32m    354\u001b[0m     \u001b[38;5;28;01mif\u001b[39;00m timeout \u001b[38;5;129;01mis\u001b[39;00m \u001b[38;5;28;01mNone\u001b[39;00m:\n\u001b[0;32m--> 355\u001b[0m         \u001b[43mwaiter\u001b[49m\u001b[38;5;241;43m.\u001b[39;49m\u001b[43macquire\u001b[49m\u001b[43m(\u001b[49m\u001b[43m)\u001b[49m\n\u001b[1;32m    356\u001b[0m         gotit \u001b[38;5;241m=\u001b[39m \u001b[38;5;28;01mTrue\u001b[39;00m\n\u001b[1;32m    357\u001b[0m     \u001b[38;5;28;01melse\u001b[39;00m:\n",
      "\u001b[0;31mKeyboardInterrupt\u001b[0m: "
     ]
    }
   ],
   "source": [
    "def xx(url):\n",
    "    return url\n",
    "\n",
    "with multiprocessing.Pool(4) as pool:\n",
    "    downloads = pool.map(xx, [\"https://darshopping.shop/product/4-in-1-laser-measuring-tool-laser-level-measuring-ruler/\"])"
   ]
  },
  {
   "cell_type": "code",
   "execution_count": null,
   "metadata": {},
   "outputs": [],
   "source": []
  },
  {
   "cell_type": "code",
   "execution_count": 62,
   "metadata": {},
   "outputs": [
    {
     "name": "stderr",
     "output_type": "stream",
     "text": [
      "/opt/miniconda3/envs/kinybench/lib/python3.12/site-packages/tqdm/auto.py:21: TqdmWarning: IProgress not found. Please update jupyter and ipywidgets. See https://ipywidgets.readthedocs.io/en/stable/user_install.html\n",
      "  from .autonotebook import tqdm as notebook_tqdm\n"
     ]
    },
    {
     "data": {
      "text/plain": [
       "(('__label__eng_Latn',), array([0.61224753]))"
      ]
     },
     "execution_count": 62,
     "metadata": {},
     "output_type": "execute_result"
    }
   ],
   "source": [
    "import fasttext\n",
    "from huggingface_hub import hf_hub_download\n",
    "\n",
    "model_path = hf_hub_download(repo_id=\"facebook/fasttext-language-identification\", filename=\"model.bin\")\n",
    "model = fasttext.load_model(model_path)\n",
    "model.predict(\"Hello, world!\")\n"
   ]
  },
  {
   "cell_type": "code",
   "execution_count": 66,
   "metadata": {},
   "outputs": [
    {
     "name": "stdout",
     "output_type": "stream",
     "text": [
      "example.test\n"
     ]
    }
   ],
   "source": [
    "from urllib.parse import urlparse\n",
    "\n",
    "domain = urlparse('http://example.test/foo/bar').netloc\n",
    "print(domain) # --> www.example.test\n",
    "\n"
   ]
  },
  {
   "cell_type": "code",
   "execution_count": 70,
   "metadata": {},
   "outputs": [
    {
     "data": {
      "text/plain": [
       "ParseResult(scheme='http', netloc='sub.example.test', path='/foo/bar', params='', query='', fragment='')"
      ]
     },
     "execution_count": 70,
     "metadata": {},
     "output_type": "execute_result"
    }
   ],
   "source": [
    "urlp = urlparse('http://sub.example.test/foo/bar')\n",
    "urlp"
   ]
  },
  {
   "cell_type": "code",
   "execution_count": 73,
   "metadata": {},
   "outputs": [
    {
     "data": {
      "text/plain": [
       "':///foo/bar'"
      ]
     },
     "execution_count": 73,
     "metadata": {},
     "output_type": "execute_result"
    }
   ],
   "source": [
    "urlp = urlparse('/foo/bar')\n",
    "clean_url = f\"{urlp.scheme}://{urlp.netloc}{urlp.path}\"\n",
    "clean_url"
   ]
  }
 ],
 "metadata": {
  "kernelspec": {
   "display_name": "kinybench",
   "language": "python",
   "name": "python3"
  },
  "language_info": {
   "codemirror_mode": {
    "name": "ipython",
    "version": 3
   },
   "file_extension": ".py",
   "mimetype": "text/x-python",
   "name": "python",
   "nbconvert_exporter": "python",
   "pygments_lexer": "ipython3",
   "version": "3.12.7"
  }
 },
 "nbformat": 4,
 "nbformat_minor": 2
}
